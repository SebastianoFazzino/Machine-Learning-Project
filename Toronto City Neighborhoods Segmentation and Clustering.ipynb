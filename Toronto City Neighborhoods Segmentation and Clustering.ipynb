








<!DOCTYPE html>
<html lang="en">

<head>
  <meta charset="utf-8">
  <title>Jupyter Notebook Viewer</title>
  <meta name="viewport" content="width=device-width, initial-scale=1.0">
  <meta name="description" content="">
  <meta name="author" content="">
  
  <meta name="robots" content="noindex,nofollow">
  

  <!--NEW RELIC Start Perf Measurement-->
  
  <!--NREND-->

  <!-- Le styles -->
  <link href="/static/build/styles.css" rel="stylesheet">

  <!-- Le HTML5 shim, for IE6-8 support of HTML5 elements -->
  <!--[if lt IE 9]>
    <script src="http://html5shim.googlecode.com/svn/trunk/html5.js"></script>
  <![endif]-->

  <!-- Le fav and touch icons -->
  <link rel="shortcut icon" href="/static/ico/ipynb_icon_16x16.png">
  <link rel="apple-touch-icon-precomposed" sizes="144x144"
        href="/static/ico/apple-touch-icon-144-precomposed.png">
  <link rel="apple-touch-icon-precomposed" sizes="114x114"
        href="/static/ico/apple-touch-icon-114-precomposed.png">
  <link rel="apple-touch-icon-precomposed" sizes="72x72"
        href="/static/ico/apple-touch-icon-72-precomposed.png">
  <link rel="apple-touch-icon-precomposed"
        href="/static/ico/apple-touch-icon-57-precomposed.png">
  
  

  

  
  <meta name="twitter:card" content="summary">
  <meta name="twitter:title" content="Notebook on nbviewer">
  <meta name="twitter:description" content="Check out this Jupyter notebook!">

  
  <meta name="twitter:domain" content="nbviewer.jupyter.org">
  <meta name="twitter:image:src" content="http://ipython.org/ipython-doc/dev/_images/ipynb_icon_128x128.png">

  
    <link href="/static/build/notebook.css" rel="stylesheet">
  

  

  
    <script src="https://cdnjs.cloudflare.com/ajax/libs/mathjax/2.7.1/MathJax.js?config=TeX-AMS_HTML" type="text/javascript">
    </script>
    <script type="text/javascript">
      init_mathjax = function() {
        if (window.MathJax) {
          // MathJax loaded
          MathJax.Hub.Config({
            TeX: {
              equationNumbers: {
                autoNumber: "AMS",
                useLabelIds: true
              }
            },
            tex2jax: {
              inlineMath: [ ['$','$'], ["\\(","\\)"] ],
              displayMath: [ ['$$','$$'], ["\\[","\\]"] ],
              processEscapes: true,
              processEnvironments: true
            },
            displayAlign: 'center',
            "HTML-CSS": {
              styles: {'.MathJax_Display': {"margin": 0}},
              linebreaks: { automatic: true }
            }
          });
          MathJax.Hub.Queue(["Typeset", MathJax.Hub]);
        }
      }
      init_mathjax();
    </script>
  

  
    <script>
      (function() {
        function addWidgetsRenderer() {
          var mimeElement = document.querySelector('script[type="application/vnd.jupyter.widget-view+json"]');
          var scriptElement = document.createElement('script');
          var widgetRendererSrc = 'https://unpkg.com/@jupyter-widgets/html-manager@0.15/dist/embed-amd.js';
          var widgetState;

          try {
            widgetState = mimeElement && JSON.parse(mimeElement.innerHTML);

            if (widgetState && (widgetState.version_major < 2 || !widgetState.version_major)) {
              widgetRendererSrc = 'https://unpkg.com/jupyter-js-widgets@2.1/dist/embed.js';
            }
          } catch(e) {}

          scriptElement.src = widgetRendererSrc;
          document.body.appendChild(scriptElement);
        }

        document.addEventListener('DOMContentLoaded', addWidgetsRenderer);
      }());
    </script>
  

</head>

<body class="nbviewer">

  <!-- These are loaded at the top of the body so they are available to
       notebook cells when they are loaded below. -->
  <script src="/static/components/jquery/dist/jquery.min.js"></script>
  <script src="/static/components/requirejs/require.js"></script>
  <script src="/static/components/moment/min/moment.min.js"></script>
<!-- Navbar
================================================== -->
  <nav id="menubar" class="navbar navbar-default navbar-fixed-top" data-spy="affix">
    <div class="container">
      <div class="navbar-header">
        <button type="button" class="navbar-toggle collapsed" data-toggle="collapse" data-target=".navbar-collapse">
          <span class="sr-only">Toggle navigation</span>
          <i class="fa fa-bars"></i>
        </button>
        <a class="navbar-brand" href="/">
          <img src="/static/img/nav_logo.svg" width="159"/>
        </a>
      </div>

      <div class="collapse navbar-collapse">
        <ul class="nav navbar-nav navbar-right">
          <li>
            <a class="active" href="https://jupyter.org">JUPYTER</a>
          </li>
          <li>
    <a href="/faq" title="FAQ" >
      
        <span>FAQ</span>
      
    </a>
  </li>

          
  
    
  
    
      
        <li>
    <a href="script/github/SebastianoFazzino/Segmenting-and-Clustering-Neighborhoods-in-Toronto/blob/master/Toronto%20City%20Neighborhoods%20Segmentation%20and%20Clustering.ipynb" title="View as Code" >
      <span class="fa fa-code fa-2x menu-icon"></span>
      <span class="menu-text">View as Code</span>
    </a>
  </li>
      
    
  

  
    <li>
    <a href="#" title="Python Kernel" >
      <span class="fa fa-server fa-2x menu-icon"></span>
      <span class="menu-text">Python Kernel</span>
    </a>
  </li>
  

  
    <li>
    <a href="https://github.com/SebastianoFazzino/Segmenting-and-Clustering-Neighborhoods-in-Toronto/blob/master/Toronto%20City%20Neighborhoods%20Segmentation%20and%20Clustering.ipynb" title="View on GitHub" >
      <span class="fa fa-github fa-2x menu-icon"></span>
      <span class="menu-text">View on GitHub</span>
    </a>
  </li>
  

  
    <li>
    <a href="https://mybinder.org/v2/gh/SebastianoFazzino/Segmenting-and-Clustering-Neighborhoods-in-Toronto/master?filepath=Toronto%20City%20Neighborhoods%20Segmentation%20and%20Clustering.ipynb" title="Execute on Binder" >
      <span class="fa fa-icon-binder fa-2x menu-icon"></span>
      <span class="menu-text">Execute on Binder</span>
    </a>
  </li>
  

  <li>
    <a href="https://raw.githubusercontent.com/SebastianoFazzino/Segmenting-and-Clustering-Neighborhoods-in-Toronto/master/Toronto%20City%20Neighborhoods%20Segmentation%20and%20Clustering.ipynb" title="Download Notebook" download>
      <span class="fa fa-download fa-2x menu-icon"></span>
      <span class="menu-text">Download Notebook</span>
    </a>
  </li>

        </ul>
      </div><!-- /.navbar-collapse -->
      
      
    </div>
  </nav>

  <div class="container container-main">
    
  
  <ol class="breadcrumb">
    
      <li>
        <a href="/github/SebastianoFazzino/Segmenting-and-Clustering-Neighborhoods-in-Toronto/tree/master">Segmenting-and-Clustering-Neighborhoods-in-Toronto</a>
      </li>
    
      <li>
        <a href="/github/SebastianoFazzino/Segmenting-and-Clustering-Neighborhoods-in-Toronto/tree/master/Toronto City Neighborhoods Segmentation and Clustering.ipynb">Toronto City Neighborhoods Segmentation and Clustering.ipynb</a>
      </li>
    
  </ol>
  
  <div id="notebook">
    <div id="notebook-container">
      <div class="cell border-box-sizing text_cell rendered"><div class="prompt input_prompt">
</div><div class="inner_cell">
<div class="text_cell_render border-box-sizing rendered_html">
<p><hr><h1 align='center'>Project: Segmenting and Clustering Neighborhoods in Toronto</h1></p>

</div>
</div>
</div>
<div class="cell border-box-sizing text_cell rendered"><div class="prompt input_prompt">
</div><div class="inner_cell">
<div class="text_cell_render border-box-sizing rendered_html">
<p><h1 align='center'>IBM Data Science Professional Certificate</h1><br><hr></p>

</div>
</div>
</div>
<div class="cell border-box-sizing text_cell rendered"><div class="prompt input_prompt">
</div><div class="inner_cell">
<div class="text_cell_render border-box-sizing rendered_html">
<p><h3 align='center'> Author: Sebastiano Fazzino</h3><hr></p>

</div>
</div>
</div>
<div class="cell border-box-sizing text_cell rendered"><div class="prompt input_prompt">
</div><div class="inner_cell">
<div class="text_cell_render border-box-sizing rendered_html">
<p><br><h4 align='center'>This notebook is part of 'Applied Data Science Capstone' course. In this notebook I'll be exploring and clustering the neighborhoods in Toronto.</p>

</div>
</div>
</div>
<div class="cell border-box-sizing text_cell rendered"><div class="prompt input_prompt">
</div><div class="inner_cell">
<div class="text_cell_render border-box-sizing rendered_html">
<p>We start installing <strong>'geopy'</strong> and <strong>'lxml'</strong> trhough <strong>'!pip install'</strong></p>

</div>
</div>
</div>
<div class="cell border-box-sizing code_cell rendered">
<div class="input">
<div class="prompt input_prompt">In&nbsp;[13]:</div>
<div class="inner_cell">
    <div class="input_area">
<div class=" highlight hl-ipython3"><pre><span></span><span class="o">!</span>pip install geopy
<span class="o">!</span>pip install <span class="nv">lxml</span><span class="o">==</span><span class="m">4</span>.5.2
</pre></div>

    </div>
</div>
</div>

<div class="output_wrapper">
<div class="output">


<div class="output_area">

    <div class="prompt"></div>


<div class="output_subarea output_stream output_stdout output_text">
<pre>Requirement already satisfied: geopy in /home/jupyterlab/conda/envs/python/lib/python3.6/site-packages (2.0.0)
Requirement already satisfied: geographiclib&lt;2,&gt;=1.49 in /home/jupyterlab/conda/envs/python/lib/python3.6/site-packages (from geopy) (1.50)
Requirement already satisfied: lxml==4.5.2 in /home/jupyterlab/conda/envs/python/lib/python3.6/site-packages (4.5.2)
</pre>
</div>
</div>

</div>
</div>

</div>
<div class="cell border-box-sizing text_cell rendered"><div class="prompt input_prompt">
</div><div class="inner_cell">
<div class="text_cell_render border-box-sizing rendered_html">
<p>Then we import all the libraries required for the the project:</p>

</div>
</div>
</div>
<div class="cell border-box-sizing code_cell rendered">
<div class="input">
<div class="prompt input_prompt">In&nbsp;[14]:</div>
<div class="inner_cell">
    <div class="input_area">
<div class=" highlight hl-ipython3"><pre><span></span><span class="kn">import</span> <span class="nn">pandas</span> <span class="k">as</span> <span class="nn">pd</span>
<span class="kn">import</span> <span class="nn">numpy</span> <span class="k">as</span> <span class="nn">np</span>
<span class="kn">from</span> <span class="nn">geopy.geocoders</span> <span class="kn">import</span> <span class="n">Nominatim</span>
<span class="kn">from</span> <span class="nn">sklearn.cluster</span> <span class="kn">import</span> <span class="n">KMeans</span>
<span class="kn">import</span> <span class="nn">folium</span>
<span class="kn">import</span> <span class="nn">requests</span> 
<span class="kn">from</span> <span class="nn">pandas.io.json</span> <span class="kn">import</span> <span class="n">json_normalize</span> 
<span class="kn">import</span> <span class="nn">matplotlib.cm</span> <span class="k">as</span> <span class="nn">cm</span>
<span class="kn">import</span> <span class="nn">matplotlib.colors</span> <span class="k">as</span> <span class="nn">colors</span>
<span class="o">%</span><span class="k">matplotlib</span> inline
</pre></div>

    </div>
</div>
</div>

</div>
<div class="cell border-box-sizing text_cell rendered"><div class="prompt input_prompt">
</div><div class="inner_cell">
<div class="text_cell_render border-box-sizing rendered_html">
<p><br>In this project we'll be working on a database stored on a Wikipedia page, so we'll need to scrape the page, wrangle the data and read it into a pandas dataframe. Luckily <strong>Pandas</strong> can do all the job for us in just two rows of code.<br>
Analyzing the page <a href="https://en.wikipedia.org/wiki/List_of_postal_codes_of_Canada:_M">https://en.wikipedia.org/wiki/List_of_postal_codes_of_Canada:_M</a> we can notice that the database we need is stored into the first table in the page, so we proceed as follows:</p>

</div>
</div>
</div>
<div class="cell border-box-sizing code_cell rendered">
<div class="input">
<div class="prompt input_prompt">In&nbsp;[15]:</div>
<div class="inner_cell">
    <div class="input_area">
<div class=" highlight hl-ipython3"><pre><span></span><span class="c1">#We store the page into &#39;table&#39; variable</span>
<span class="n">table</span> <span class="o">=</span> <span class="n">pd</span><span class="o">.</span><span class="n">read_html</span><span class="p">(</span><span class="s2">&quot;https://en.wikipedia.org/wiki/List_of_postal_codes_of_Canada:_M&quot;</span><span class="p">)</span>
<span class="c1">#We store just the first table of the page (table[0]) into &#39;toronto_df&#39;</span>
<span class="n">toronto_df</span> <span class="o">=</span> <span class="n">table</span><span class="p">[</span><span class="mi">0</span><span class="p">]</span>
</pre></div>

    </div>
</div>
</div>

</div>
<div class="cell border-box-sizing code_cell rendered">
<div class="input">
<div class="prompt input_prompt">In&nbsp;[16]:</div>
<div class="inner_cell">
    <div class="input_area">
<div class=" highlight hl-ipython3"><pre><span></span><span class="c1">#We print the first five rows of our dataframe</span>
<span class="n">toronto_df</span><span class="o">.</span><span class="n">head</span><span class="p">()</span>
</pre></div>

    </div>
</div>
</div>

<div class="output_wrapper">
<div class="output">


<div class="output_area">

    <div class="prompt output_prompt">Out[16]:</div>



<div class="output_html rendered_html output_subarea output_execute_result">
<div>
<style scoped>
    .dataframe tbody tr th:only-of-type {
        vertical-align: middle;
    }

    .dataframe tbody tr th {
        vertical-align: top;
    }

    .dataframe thead th {
        text-align: right;
    }
</style>
<table border="1" class="dataframe">
  <thead>
    <tr style="text-align: right;">
      <th></th>
      <th>Postal Code</th>
      <th>Borough</th>
      <th>Neighbourhood</th>
    </tr>
  </thead>
  <tbody>
    <tr>
      <th>0</th>
      <td>M1A</td>
      <td>Not assigned</td>
      <td>Not assigned</td>
    </tr>
    <tr>
      <th>1</th>
      <td>M2A</td>
      <td>Not assigned</td>
      <td>Not assigned</td>
    </tr>
    <tr>
      <th>2</th>
      <td>M3A</td>
      <td>North York</td>
      <td>Parkwoods</td>
    </tr>
    <tr>
      <th>3</th>
      <td>M4A</td>
      <td>North York</td>
      <td>Victoria Village</td>
    </tr>
    <tr>
      <th>4</th>
      <td>M5A</td>
      <td>Downtown Toronto</td>
      <td>Regent Park, Harbourfront</td>
    </tr>
  </tbody>
</table>
</div>
</div>

</div>

</div>
</div>

</div>
<div class="cell border-box-sizing text_cell rendered"><div class="prompt input_prompt">
</div><div class="inner_cell">
<div class="text_cell_render border-box-sizing rendered_html">
<p><br>As we can see there are some 'Not Assigned' values in 'Borough' and 'Neighbourhood' columns, so we use <strong>'group_by'</strong> &amp; <strong>'count'</strong> functions to check how many 'Not Assigned' values are there in total in our dataframe</p>

</div>
</div>
</div>
<div class="cell border-box-sizing code_cell rendered">
<div class="input">
<div class="prompt input_prompt">In&nbsp;[17]:</div>
<div class="inner_cell">
    <div class="input_area">
<div class=" highlight hl-ipython3"><pre><span></span><span class="nb">print</span><span class="p">(</span><span class="n">toronto_df</span><span class="o">.</span><span class="n">groupby</span><span class="p">(</span><span class="s1">&#39;Borough&#39;</span><span class="p">)</span><span class="o">.</span><span class="n">count</span><span class="p">())</span>
<span class="nb">print</span><span class="p">(</span><span class="n">toronto_df</span><span class="o">.</span><span class="n">shape</span><span class="p">)</span>
</pre></div>

    </div>
</div>
</div>

<div class="output_wrapper">
<div class="output">


<div class="output_area">

    <div class="prompt"></div>


<div class="output_subarea output_stream output_stdout output_text">
<pre>                  Postal Code  Neighbourhood
Borough                                     
Central Toronto             9              9
Downtown Toronto           19             19
East Toronto                5              5
East York                   5              5
Etobicoke                  12             12
Mississauga                 1              1
North York                 24             24
Not assigned               77             77
Scarborough                17             17
West Toronto                6              6
York                        5              5
(180, 3)
</pre>
</div>
</div>

</div>
</div>

</div>
<div class="cell border-box-sizing text_cell rendered"><div class="prompt input_prompt">
</div><div class="inner_cell">
<div class="text_cell_render border-box-sizing rendered_html">
<p><br>We have a total of 77 rows with 'Not Assigned' values that we need to drop:</p>

</div>
</div>
</div>
<div class="cell border-box-sizing code_cell rendered">
<div class="input">
<div class="prompt input_prompt">In&nbsp;[18]:</div>
<div class="inner_cell">
    <div class="input_area">
<div class=" highlight hl-ipython3"><pre><span></span><span class="n">df_toronto</span> <span class="o">=</span> <span class="n">toronto_df</span><span class="p">[</span><span class="n">toronto_df</span><span class="p">[</span><span class="s1">&#39;Borough&#39;</span><span class="p">]</span> <span class="o">!=</span> <span class="s1">&#39;Not assigned&#39;</span><span class="p">]</span><span class="o">.</span><span class="n">reset_index</span><span class="p">(</span><span class="n">drop</span><span class="o">=</span><span class="kc">True</span><span class="p">)</span>
<span class="n">df_toronto</span>
</pre></div>

    </div>
</div>
</div>

<div class="output_wrapper">
<div class="output">


<div class="output_area">

    <div class="prompt output_prompt">Out[18]:</div>



<div class="output_html rendered_html output_subarea output_execute_result">
<div>
<style scoped>
    .dataframe tbody tr th:only-of-type {
        vertical-align: middle;
    }

    .dataframe tbody tr th {
        vertical-align: top;
    }

    .dataframe thead th {
        text-align: right;
    }
</style>
<table border="1" class="dataframe">
  <thead>
    <tr style="text-align: right;">
      <th></th>
      <th>Postal Code</th>
      <th>Borough</th>
      <th>Neighbourhood</th>
    </tr>
  </thead>
  <tbody>
    <tr>
      <th>0</th>
      <td>M3A</td>
      <td>North York</td>
      <td>Parkwoods</td>
    </tr>
    <tr>
      <th>1</th>
      <td>M4A</td>
      <td>North York</td>
      <td>Victoria Village</td>
    </tr>
    <tr>
      <th>2</th>
      <td>M5A</td>
      <td>Downtown Toronto</td>
      <td>Regent Park, Harbourfront</td>
    </tr>
    <tr>
      <th>3</th>
      <td>M6A</td>
      <td>North York</td>
      <td>Lawrence Manor, Lawrence Heights</td>
    </tr>
    <tr>
      <th>4</th>
      <td>M7A</td>
      <td>Downtown Toronto</td>
      <td>Queen's Park, Ontario Provincial Government</td>
    </tr>
    <tr>
      <th>...</th>
      <td>...</td>
      <td>...</td>
      <td>...</td>
    </tr>
    <tr>
      <th>98</th>
      <td>M8X</td>
      <td>Etobicoke</td>
      <td>The Kingsway, Montgomery Road, Old Mill North</td>
    </tr>
    <tr>
      <th>99</th>
      <td>M4Y</td>
      <td>Downtown Toronto</td>
      <td>Church and Wellesley</td>
    </tr>
    <tr>
      <th>100</th>
      <td>M7Y</td>
      <td>East Toronto</td>
      <td>Business reply mail Processing Centre, South C...</td>
    </tr>
    <tr>
      <th>101</th>
      <td>M8Y</td>
      <td>Etobicoke</td>
      <td>Old Mill South, King's Mill Park, Sunnylea, Hu...</td>
    </tr>
    <tr>
      <th>102</th>
      <td>M8Z</td>
      <td>Etobicoke</td>
      <td>Mimico NW, The Queensway West, South of Bloor,...</td>
    </tr>
  </tbody>
</table>
<p>103 rows × 3 columns</p>
</div>
</div>

</div>

</div>
</div>

</div>
<div class="cell border-box-sizing text_cell rendered"><div class="prompt input_prompt">
</div><div class="inner_cell">
<div class="text_cell_render border-box-sizing rendered_html">
<p>We can easily verify that we dropped the unwanted rows as the shape of the dataframe went down from 180 rows to 103 rows.</p>

</div>
</div>
</div>
<div class="cell border-box-sizing text_cell rendered"><div class="prompt input_prompt">
</div><div class="inner_cell">
<div class="text_cell_render border-box-sizing rendered_html">
<p><br><br>In the next step we want to know the coordinates for each neighborhood according to its 'Postal Code'. We have all the coordinates stored in a csv file that we can read into a pd dataframe using <strong>'pd.read_csv'</strong> function:</p>

</div>
</div>
</div>
<div class="cell border-box-sizing code_cell rendered">
<div class="input">
<div class="prompt input_prompt">In&nbsp;[19]:</div>
<div class="inner_cell">
    <div class="input_area">
<div class=" highlight hl-ipython3"><pre><span></span><span class="n">coordinates</span> <span class="o">=</span> <span class="n">pd</span><span class="o">.</span><span class="n">read_csv</span><span class="p">(</span><span class="s1">&#39;Geospatial_Coordinates.csv&#39;</span><span class="p">)</span>
<span class="n">coordinates</span>
</pre></div>

    </div>
</div>
</div>

<div class="output_wrapper">
<div class="output">


<div class="output_area">

    <div class="prompt output_prompt">Out[19]:</div>



<div class="output_html rendered_html output_subarea output_execute_result">
<div>
<style scoped>
    .dataframe tbody tr th:only-of-type {
        vertical-align: middle;
    }

    .dataframe tbody tr th {
        vertical-align: top;
    }

    .dataframe thead th {
        text-align: right;
    }
</style>
<table border="1" class="dataframe">
  <thead>
    <tr style="text-align: right;">
      <th></th>
      <th>Postal Code</th>
      <th>Latitude</th>
      <th>Longitude</th>
    </tr>
  </thead>
  <tbody>
    <tr>
      <th>0</th>
      <td>M1B</td>
      <td>43.806686</td>
      <td>-79.194353</td>
    </tr>
    <tr>
      <th>1</th>
      <td>M1C</td>
      <td>43.784535</td>
      <td>-79.160497</td>
    </tr>
    <tr>
      <th>2</th>
      <td>M1E</td>
      <td>43.763573</td>
      <td>-79.188711</td>
    </tr>
    <tr>
      <th>3</th>
      <td>M1G</td>
      <td>43.770992</td>
      <td>-79.216917</td>
    </tr>
    <tr>
      <th>4</th>
      <td>M1H</td>
      <td>43.773136</td>
      <td>-79.239476</td>
    </tr>
    <tr>
      <th>...</th>
      <td>...</td>
      <td>...</td>
      <td>...</td>
    </tr>
    <tr>
      <th>98</th>
      <td>M9N</td>
      <td>43.706876</td>
      <td>-79.518188</td>
    </tr>
    <tr>
      <th>99</th>
      <td>M9P</td>
      <td>43.696319</td>
      <td>-79.532242</td>
    </tr>
    <tr>
      <th>100</th>
      <td>M9R</td>
      <td>43.688905</td>
      <td>-79.554724</td>
    </tr>
    <tr>
      <th>101</th>
      <td>M9V</td>
      <td>43.739416</td>
      <td>-79.588437</td>
    </tr>
    <tr>
      <th>102</th>
      <td>M9W</td>
      <td>43.706748</td>
      <td>-79.594054</td>
    </tr>
  </tbody>
</table>
<p>103 rows × 3 columns</p>
</div>
</div>

</div>

</div>
</div>

</div>
<div class="cell border-box-sizing text_cell rendered"><div class="prompt input_prompt">
</div><div class="inner_cell">
<div class="text_cell_render border-box-sizing rendered_html">
<p>We can now combine the two dataframes in a new one:</p>

</div>
</div>
</div>
<div class="cell border-box-sizing code_cell rendered">
<div class="input">
<div class="prompt input_prompt">In&nbsp;[20]:</div>
<div class="inner_cell">
    <div class="input_area">
<div class=" highlight hl-ipython3"><pre><span></span><span class="n">df_new</span> <span class="o">=</span> <span class="n">pd</span><span class="o">.</span><span class="n">merge</span><span class="p">(</span><span class="n">df_toronto</span><span class="p">,</span><span class="n">coordinates</span><span class="p">,</span> <span class="n">on</span> <span class="o">=</span> <span class="s2">&quot;Postal Code&quot;</span><span class="p">)</span>
<span class="n">df_new</span>
</pre></div>

    </div>
</div>
</div>

<div class="output_wrapper">
<div class="output">


<div class="output_area">

    <div class="prompt output_prompt">Out[20]:</div>



<div class="output_html rendered_html output_subarea output_execute_result">
<div>
<style scoped>
    .dataframe tbody tr th:only-of-type {
        vertical-align: middle;
    }

    .dataframe tbody tr th {
        vertical-align: top;
    }

    .dataframe thead th {
        text-align: right;
    }
</style>
<table border="1" class="dataframe">
  <thead>
    <tr style="text-align: right;">
      <th></th>
      <th>Postal Code</th>
      <th>Borough</th>
      <th>Neighbourhood</th>
      <th>Latitude</th>
      <th>Longitude</th>
    </tr>
  </thead>
  <tbody>
    <tr>
      <th>0</th>
      <td>M3A</td>
      <td>North York</td>
      <td>Parkwoods</td>
      <td>43.753259</td>
      <td>-79.329656</td>
    </tr>
    <tr>
      <th>1</th>
      <td>M4A</td>
      <td>North York</td>
      <td>Victoria Village</td>
      <td>43.725882</td>
      <td>-79.315572</td>
    </tr>
    <tr>
      <th>2</th>
      <td>M5A</td>
      <td>Downtown Toronto</td>
      <td>Regent Park, Harbourfront</td>
      <td>43.654260</td>
      <td>-79.360636</td>
    </tr>
    <tr>
      <th>3</th>
      <td>M6A</td>
      <td>North York</td>
      <td>Lawrence Manor, Lawrence Heights</td>
      <td>43.718518</td>
      <td>-79.464763</td>
    </tr>
    <tr>
      <th>4</th>
      <td>M7A</td>
      <td>Downtown Toronto</td>
      <td>Queen's Park, Ontario Provincial Government</td>
      <td>43.662301</td>
      <td>-79.389494</td>
    </tr>
    <tr>
      <th>...</th>
      <td>...</td>
      <td>...</td>
      <td>...</td>
      <td>...</td>
      <td>...</td>
    </tr>
    <tr>
      <th>98</th>
      <td>M8X</td>
      <td>Etobicoke</td>
      <td>The Kingsway, Montgomery Road, Old Mill North</td>
      <td>43.653654</td>
      <td>-79.506944</td>
    </tr>
    <tr>
      <th>99</th>
      <td>M4Y</td>
      <td>Downtown Toronto</td>
      <td>Church and Wellesley</td>
      <td>43.665860</td>
      <td>-79.383160</td>
    </tr>
    <tr>
      <th>100</th>
      <td>M7Y</td>
      <td>East Toronto</td>
      <td>Business reply mail Processing Centre, South C...</td>
      <td>43.662744</td>
      <td>-79.321558</td>
    </tr>
    <tr>
      <th>101</th>
      <td>M8Y</td>
      <td>Etobicoke</td>
      <td>Old Mill South, King's Mill Park, Sunnylea, Hu...</td>
      <td>43.636258</td>
      <td>-79.498509</td>
    </tr>
    <tr>
      <th>102</th>
      <td>M8Z</td>
      <td>Etobicoke</td>
      <td>Mimico NW, The Queensway West, South of Bloor,...</td>
      <td>43.628841</td>
      <td>-79.520999</td>
    </tr>
  </tbody>
</table>
<p>103 rows × 5 columns</p>
</div>
</div>

</div>

</div>
</div>

</div>
<div class="cell border-box-sizing text_cell rendered"><div class="prompt input_prompt">
</div><div class="inner_cell">
<div class="text_cell_render border-box-sizing rendered_html">
<p><br><br>Using <strong>Geocoder</strong> we can find the coordinates of Toronto</p>

</div>
</div>
</div>
<div class="cell border-box-sizing code_cell rendered">
<div class="input">
<div class="prompt input_prompt">In&nbsp;[21]:</div>
<div class="inner_cell">
    <div class="input_area">
<div class=" highlight hl-ipython3"><pre><span></span><span class="n">address</span> <span class="o">=</span> <span class="s1">&#39;Toronto, CA&#39;</span>

<span class="n">geolocator</span> <span class="o">=</span> <span class="n">Nominatim</span><span class="p">(</span><span class="n">user_agent</span><span class="o">=</span><span class="s2">&quot;Toronto_explorer&quot;</span><span class="p">)</span>
<span class="n">location</span> <span class="o">=</span> <span class="n">geolocator</span><span class="o">.</span><span class="n">geocode</span><span class="p">(</span><span class="n">address</span><span class="p">)</span>
<span class="n">latitude</span> <span class="o">=</span> <span class="n">location</span><span class="o">.</span><span class="n">latitude</span>
<span class="n">longitude</span> <span class="o">=</span> <span class="n">location</span><span class="o">.</span><span class="n">longitude</span>
<span class="nb">print</span><span class="p">(</span><span class="s1">&#39;The geograpical coordinate of Toronto are </span><span class="si">{}</span><span class="s1">, </span><span class="si">{}</span><span class="s1">.&#39;</span><span class="o">.</span><span class="n">format</span><span class="p">(</span><span class="n">latitude</span><span class="p">,</span> <span class="n">longitude</span><span class="p">))</span>
</pre></div>

    </div>
</div>
</div>

<div class="output_wrapper">
<div class="output">


<div class="output_area">

    <div class="prompt"></div>


<div class="output_subarea output_stream output_stdout output_text">
<pre>The geograpical coordinate of Toronto are 43.6534817, -79.3839347.
</pre>
</div>
</div>

</div>
</div>

</div>
<div class="cell border-box-sizing code_cell rendered">
<div class="input">
<div class="prompt input_prompt">In&nbsp;[22]:</div>
<div class="inner_cell">
    <div class="input_area">
<div class=" highlight hl-ipython3"><pre><span></span><span class="n">Toronto_Map</span> <span class="o">=</span> <span class="n">folium</span><span class="o">.</span><span class="n">Map</span><span class="p">(</span><span class="n">location</span><span class="o">=</span><span class="p">[</span><span class="n">latitude</span><span class="p">,</span> <span class="n">longitude</span><span class="p">],</span> <span class="n">zoom_start</span><span class="o">=</span><span class="mi">10</span><span class="p">)</span>

<span class="k">for</span> <span class="n">lat</span><span class="p">,</span> <span class="n">lng</span><span class="p">,</span> <span class="n">borough</span><span class="p">,</span> <span class="n">neighborhood</span> <span class="ow">in</span> <span class="nb">zip</span><span class="p">(</span><span class="n">df_new</span><span class="p">[</span><span class="s1">&#39;Latitude&#39;</span><span class="p">],</span> <span class="n">df_new</span><span class="p">[</span><span class="s1">&#39;Longitude&#39;</span><span class="p">],</span> <span class="n">df_new</span><span class="p">[</span><span class="s1">&#39;Borough&#39;</span><span class="p">],</span> <span class="n">df_new</span><span class="p">[</span><span class="s1">&#39;Neighbourhood&#39;</span><span class="p">]):</span>
    <span class="n">label</span> <span class="o">=</span> <span class="s1">&#39;</span><span class="si">{}</span><span class="s1">, </span><span class="si">{}</span><span class="s1">&#39;</span><span class="o">.</span><span class="n">format</span><span class="p">(</span><span class="n">neighborhood</span><span class="p">,</span> <span class="n">borough</span><span class="p">)</span>
    <span class="n">label</span> <span class="o">=</span> <span class="n">folium</span><span class="o">.</span><span class="n">Popup</span><span class="p">(</span><span class="n">label</span><span class="p">,</span> <span class="n">parse_html</span><span class="o">=</span><span class="kc">True</span><span class="p">)</span>
    <span class="n">folium</span><span class="o">.</span><span class="n">CircleMarker</span><span class="p">(</span>
        <span class="p">[</span><span class="n">lat</span><span class="p">,</span> <span class="n">lng</span><span class="p">],</span>
        <span class="n">radius</span><span class="o">=</span><span class="mi">5</span><span class="p">,</span>
        <span class="n">popup</span><span class="o">=</span><span class="n">label</span><span class="p">,</span>
        <span class="n">color</span><span class="o">=</span><span class="s1">&#39;yellow&#39;</span><span class="p">,</span>
        <span class="n">fill</span><span class="o">=</span><span class="kc">True</span><span class="p">,</span>
        <span class="n">fill_color</span><span class="o">=</span><span class="s1">&#39;red&#39;</span><span class="p">,</span>
        <span class="n">fill_opacity</span><span class="o">=</span><span class="mf">0.7</span><span class="p">,</span>
        <span class="n">parse_html</span><span class="o">=</span><span class="kc">False</span><span class="p">)</span><span class="o">.</span><span class="n">add_to</span><span class="p">(</span><span class="n">Toronto_Map</span><span class="p">)</span>  
    
<span class="n">Toronto_Map</span>
</pre></div>

    </div>
</div>
</div>

<div class="output_wrapper">
<div class="output">


<div class="output_area">

    <div class="prompt output_prompt">Out[22]:</div>



<div class="output_html rendered_html output_subarea output_execute_result">
<div style="width:100%;"><div style="position:relative;width:100%;height:0;padding-bottom:60%;"><span style="color:#565656">Make this Notebook Trusted to load map: File -> Trust Notebook</span><iframe src="about:blank" style="position:absolute;width:100%;height:100%;left:0;top:0;border:none !important;" data-html=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 onload="this.contentDocument.open();this.contentDocument.write(atob(this.getAttribute('data-html')));this.contentDocument.close();" allowfullscreen webkitallowfullscreen mozallowfullscreen></iframe></div></div>
</div>

</div>

</div>
</div>

</div>
<div class="cell border-box-sizing text_cell rendered"><div class="prompt input_prompt">
</div><div class="inner_cell">
<div class="text_cell_render border-box-sizing rendered_html">
<p><br><br>In the next step we'll define <strong>Foursquare</strong> credentials and version</p>

</div>
</div>
</div>
<div class="cell border-box-sizing code_cell rendered">
<div class="input">
<div class="prompt input_prompt">In&nbsp;[23]:</div>
<div class="inner_cell">
    <div class="input_area">
<div class=" highlight hl-ipython3"><pre><span></span><span class="n">CLIENT_ID</span> <span class="o">=</span> <span class="s1">&#39;YDEFE3BRIVVDPTQPTR042NEQONEDSTGFRVSAH0QNOAOAUQF4&#39;</span>
<span class="n">CLIENT_SECRET</span> <span class="o">=</span> <span class="s1">&#39;0K5OYCFOP0OMPFTJCSPEPOXQ2NSUSMAP0SRMOZWBYZQRBTEN&#39;</span>
<span class="n">VERSION</span> <span class="o">=</span> <span class="s1">&#39;20200803&#39;</span>

<span class="nb">print</span><span class="p">(</span><span class="s1">&#39;Your credentails:&#39;</span><span class="p">)</span>
<span class="nb">print</span><span class="p">(</span><span class="s1">&#39;CLIENT_ID: &#39;</span> <span class="o">+</span> <span class="n">CLIENT_ID</span><span class="p">)</span>
<span class="nb">print</span><span class="p">(</span><span class="s1">&#39;CLIENT_SECRET:&#39;</span> <span class="o">+</span> <span class="n">CLIENT_SECRET</span><span class="p">)</span>
</pre></div>

    </div>
</div>
</div>

<div class="output_wrapper">
<div class="output">


<div class="output_area">

    <div class="prompt"></div>


<div class="output_subarea output_stream output_stdout output_text">
<pre>Your credentails:
CLIENT_ID: YDEFE3BRIVVDPTQPTR042NEQONEDSTGFRVSAH0QNOAOAUQF4
CLIENT_SECRET:0K5OYCFOP0OMPFTJCSPEPOXQ2NSUSMAP0SRMOZWBYZQRBTEN
</pre>
</div>
</div>

</div>
</div>

</div>
<div class="cell border-box-sizing text_cell rendered"><div class="prompt input_prompt">
</div><div class="inner_cell">
<div class="text_cell_render border-box-sizing rendered_html">
<p><br><br>Using <strong>Foursquare</strong> we create a function to find the top 100 venues for each neighborhood in Toronto</p>

</div>
</div>
</div>
<div class="cell border-box-sizing code_cell rendered">
<div class="input">
<div class="prompt input_prompt">In&nbsp;[24]:</div>
<div class="inner_cell">
    <div class="input_area">
<div class=" highlight hl-ipython3"><pre><span></span><span class="n">lat</span> <span class="o">=</span> <span class="n">df_new</span><span class="p">[</span><span class="s1">&#39;Latitude&#39;</span><span class="p">]</span>
<span class="n">lng</span> <span class="o">=</span> <span class="n">df_new</span><span class="p">[</span><span class="s1">&#39;Longitude&#39;</span><span class="p">]</span>
<span class="n">radius</span> <span class="o">=</span> <span class="mi">500</span>
<span class="n">limit</span> <span class="o">=</span> <span class="mi">100</span>

<span class="k">def</span> <span class="nf">getTorontoVenues</span><span class="p">(</span><span class="n">names</span><span class="p">,</span> <span class="n">latitudes</span><span class="p">,</span> <span class="n">longitudes</span><span class="p">,</span> <span class="n">radius</span><span class="o">=</span><span class="mi">500</span><span class="p">):</span>
    
    <span class="n">venues_list</span><span class="o">=</span><span class="p">[]</span>
    <span class="k">for</span> <span class="n">name</span><span class="p">,</span> <span class="n">lat</span><span class="p">,</span> <span class="n">lng</span> <span class="ow">in</span> <span class="nb">zip</span><span class="p">(</span><span class="n">names</span><span class="p">,</span> <span class="n">latitudes</span><span class="p">,</span> <span class="n">longitudes</span><span class="p">):</span>
        <span class="nb">print</span><span class="p">(</span><span class="n">name</span><span class="p">)</span>
            
        <span class="n">toronto_url</span> <span class="o">=</span> <span class="s1">&#39;https://api.foursquare.com/v2/venues/explore?&amp;client_id=</span><span class="si">{}</span><span class="s1">&amp;client_secret=</span><span class="si">{}</span><span class="s1">&amp;v=</span><span class="si">{}</span><span class="s1">&amp;ll=</span><span class="si">{}</span><span class="s1">,</span><span class="si">{}</span><span class="s1">&amp;radius=</span><span class="si">{}</span><span class="s1">&amp;limit=</span><span class="si">{}</span><span class="s1">&#39;</span><span class="o">.</span><span class="n">format</span><span class="p">(</span>
            <span class="n">CLIENT_ID</span><span class="p">,</span> 
            <span class="n">CLIENT_SECRET</span><span class="p">,</span> 
            <span class="n">VERSION</span><span class="p">,</span> 
            <span class="n">lat</span><span class="p">,</span> 
            <span class="n">lng</span><span class="p">,</span> 
            <span class="n">radius</span><span class="p">,</span> 
            <span class="n">limit</span><span class="p">)</span>
            
        <span class="n">results</span> <span class="o">=</span> <span class="n">requests</span><span class="o">.</span><span class="n">get</span><span class="p">(</span><span class="n">toronto_url</span><span class="p">)</span><span class="o">.</span><span class="n">json</span><span class="p">()[</span><span class="s2">&quot;response&quot;</span><span class="p">][</span><span class="s1">&#39;groups&#39;</span><span class="p">][</span><span class="mi">0</span><span class="p">][</span><span class="s1">&#39;items&#39;</span><span class="p">]</span>
        
        <span class="n">venues_list</span><span class="o">.</span><span class="n">append</span><span class="p">([(</span>
            <span class="n">name</span><span class="p">,</span> 
            <span class="n">lat</span><span class="p">,</span> 
            <span class="n">lng</span><span class="p">,</span> 
            <span class="n">v</span><span class="p">[</span><span class="s1">&#39;venue&#39;</span><span class="p">][</span><span class="s1">&#39;name&#39;</span><span class="p">],</span> 
            <span class="n">v</span><span class="p">[</span><span class="s1">&#39;venue&#39;</span><span class="p">][</span><span class="s1">&#39;location&#39;</span><span class="p">][</span><span class="s1">&#39;lat&#39;</span><span class="p">],</span> 
            <span class="n">v</span><span class="p">[</span><span class="s1">&#39;venue&#39;</span><span class="p">][</span><span class="s1">&#39;location&#39;</span><span class="p">][</span><span class="s1">&#39;lng&#39;</span><span class="p">],</span>  
            <span class="n">v</span><span class="p">[</span><span class="s1">&#39;venue&#39;</span><span class="p">][</span><span class="s1">&#39;categories&#39;</span><span class="p">][</span><span class="mi">0</span><span class="p">][</span><span class="s1">&#39;name&#39;</span><span class="p">])</span> <span class="k">for</span> <span class="n">v</span> <span class="ow">in</span> <span class="n">results</span><span class="p">])</span>

    <span class="n">nearby_venues</span> <span class="o">=</span> <span class="n">pd</span><span class="o">.</span><span class="n">DataFrame</span><span class="p">([</span><span class="n">item</span> <span class="k">for</span> <span class="n">venue_list</span> <span class="ow">in</span> <span class="n">venues_list</span> <span class="k">for</span> <span class="n">item</span> <span class="ow">in</span> <span class="n">venue_list</span><span class="p">])</span>
    <span class="n">nearby_venues</span><span class="o">.</span><span class="n">columns</span> <span class="o">=</span> <span class="p">[</span><span class="s1">&#39;Neighborhood&#39;</span><span class="p">,</span> 
                  <span class="s1">&#39;Neighborhood Latitude&#39;</span><span class="p">,</span> 
                  <span class="s1">&#39;Neighborhood Longitude&#39;</span><span class="p">,</span> 
                  <span class="s1">&#39;Venue&#39;</span><span class="p">,</span> 
                  <span class="s1">&#39;Venue Latitude&#39;</span><span class="p">,</span> 
                  <span class="s1">&#39;Venue Longitude&#39;</span><span class="p">,</span> 
                  <span class="s1">&#39;Venue Category&#39;</span><span class="p">]</span>
    
    <span class="k">return</span><span class="p">(</span><span class="n">nearby_venues</span><span class="p">)</span>
</pre></div>

    </div>
</div>
</div>

</div>
<div class="cell border-box-sizing code_cell rendered">
<div class="input">
<div class="prompt input_prompt">In&nbsp;[25]:</div>
<div class="inner_cell">
    <div class="input_area">
<div class=" highlight hl-ipython3"><pre><span></span><span class="n">toronto_venues</span> <span class="o">=</span> <span class="n">getTorontoVenues</span><span class="p">(</span><span class="n">names</span><span class="o">=</span><span class="n">df_new</span><span class="p">[</span><span class="s1">&#39;Neighbourhood&#39;</span><span class="p">],</span>
                                   <span class="n">latitudes</span><span class="o">=</span><span class="n">df_new</span><span class="p">[</span><span class="s1">&#39;Latitude&#39;</span><span class="p">],</span>
                                   <span class="n">longitudes</span><span class="o">=</span><span class="n">df_new</span><span class="p">[</span><span class="s1">&#39;Longitude&#39;</span><span class="p">]</span>
                                  <span class="p">)</span>
</pre></div>

    </div>
</div>
</div>

<div class="output_wrapper">
<div class="output">


<div class="output_area">

    <div class="prompt"></div>


<div class="output_subarea output_stream output_stdout output_text">
<pre>Parkwoods
Victoria Village
Regent Park, Harbourfront
Lawrence Manor, Lawrence Heights
Queen&#39;s Park, Ontario Provincial Government
Islington Avenue, Humber Valley Village
Malvern, Rouge
Don Mills
Parkview Hill, Woodbine Gardens
Garden District, Ryerson
Glencairn
West Deane Park, Princess Gardens, Martin Grove, Islington, Cloverdale
Rouge Hill, Port Union, Highland Creek
Don Mills
Woodbine Heights
St. James Town
Humewood-Cedarvale
Eringate, Bloordale Gardens, Old Burnhamthorpe, Markland Wood
Guildwood, Morningside, West Hill
The Beaches
Berczy Park
Caledonia-Fairbanks
Woburn
Leaside
Central Bay Street
Christie
Cedarbrae
Hillcrest Village
Bathurst Manor, Wilson Heights, Downsview North
Thorncliffe Park
Richmond, Adelaide, King
Dufferin, Dovercourt Village
Scarborough Village
Fairview, Henry Farm, Oriole
Northwood Park, York University
East Toronto, Broadview North (Old East York)
Harbourfront East, Union Station, Toronto Islands
Little Portugal, Trinity
Kennedy Park, Ionview, East Birchmount Park
Bayview Village
Downsview
The Danforth West, Riverdale
Toronto Dominion Centre, Design Exchange
Brockton, Parkdale Village, Exhibition Place
Golden Mile, Clairlea, Oakridge
York Mills, Silver Hills
Downsview
India Bazaar, The Beaches West
Commerce Court, Victoria Hotel
North Park, Maple Leaf Park, Upwood Park
Humber Summit
Cliffside, Cliffcrest, Scarborough Village West
Willowdale, Newtonbrook
Downsview
Studio District
Bedford Park, Lawrence Manor East
Del Ray, Mount Dennis, Keelsdale and Silverthorn
Humberlea, Emery
Birch Cliff, Cliffside West
Willowdale, Willowdale East
Downsview
Lawrence Park
Roselawn
Runnymede, The Junction North
Weston
Dorset Park, Wexford Heights, Scarborough Town Centre
York Mills West
Davisville North
Forest Hill North &amp; West, Forest Hill Road Park
High Park, The Junction South
Westmount
Wexford, Maryvale
Willowdale, Willowdale West
North Toronto West, Lawrence Park
The Annex, North Midtown, Yorkville
Parkdale, Roncesvalles
Canada Post Gateway Processing Centre
Kingsview Village, St. Phillips, Martin Grove Gardens, Richview Gardens
Agincourt
Davisville
University of Toronto, Harbord
Runnymede, Swansea
Clarks Corners, Tam O&#39;Shanter, Sullivan
Moore Park, Summerhill East
Kensington Market, Chinatown, Grange Park
Milliken, Agincourt North, Steeles East, L&#39;Amoreaux East
Summerhill West, Rathnelly, South Hill, Forest Hill SE, Deer Park
CN Tower, King and Spadina, Railway Lands, Harbourfront West, Bathurst Quay, South Niagara, Island airport
New Toronto, Mimico South, Humber Bay Shores
South Steeles, Silverstone, Humbergate, Jamestown, Mount Olive, Beaumond Heights, Thistletown, Albion Gardens
Steeles West, L&#39;Amoreaux West
Rosedale
Stn A PO Boxes
Alderwood, Long Branch
Northwest, West Humber - Clairville
Upper Rouge
St. James Town, Cabbagetown
First Canadian Place, Underground city
The Kingsway, Montgomery Road, Old Mill North
Church and Wellesley
Business reply mail Processing Centre, South Central Letter Processing Plant Toronto
Old Mill South, King&#39;s Mill Park, Sunnylea, Humber Bay, Mimico NE, The Queensway East, Royal York South East, Kingsway Park South East
Mimico NW, The Queensway West, South of Bloor, Kingsway Park South West, Royal York South West
</pre>
</div>
</div>

</div>
</div>

</div>
<div class="cell border-box-sizing text_cell rendered"><div class="prompt input_prompt">
</div><div class="inner_cell">
<div class="text_cell_render border-box-sizing rendered_html">
<p><br><br>Let's check how many venues were returned for each neighborhood:</p>

</div>
</div>
</div>
<div class="cell border-box-sizing code_cell rendered">
<div class="input">
<div class="prompt input_prompt">In&nbsp;[26]:</div>
<div class="inner_cell">
    <div class="input_area">
<div class=" highlight hl-ipython3"><pre><span></span><span class="n">toronto_venues</span><span class="o">.</span><span class="n">groupby</span><span class="p">(</span><span class="s1">&#39;Neighborhood&#39;</span><span class="p">)</span><span class="o">.</span><span class="n">count</span><span class="p">()</span>
</pre></div>

    </div>
</div>
</div>

<div class="output_wrapper">
<div class="output">


<div class="output_area">

    <div class="prompt output_prompt">Out[26]:</div>



<div class="output_html rendered_html output_subarea output_execute_result">
<div>
<style scoped>
    .dataframe tbody tr th:only-of-type {
        vertical-align: middle;
    }

    .dataframe tbody tr th {
        vertical-align: top;
    }

    .dataframe thead th {
        text-align: right;
    }
</style>
<table border="1" class="dataframe">
  <thead>
    <tr style="text-align: right;">
      <th></th>
      <th>Neighborhood Latitude</th>
      <th>Neighborhood Longitude</th>
      <th>Venue</th>
      <th>Venue Latitude</th>
      <th>Venue Longitude</th>
      <th>Venue Category</th>
    </tr>
    <tr>
      <th>Neighborhood</th>
      <th></th>
      <th></th>
      <th></th>
      <th></th>
      <th></th>
      <th></th>
    </tr>
  </thead>
  <tbody>
    <tr>
      <th>Agincourt</th>
      <td>4</td>
      <td>4</td>
      <td>4</td>
      <td>4</td>
      <td>4</td>
      <td>4</td>
    </tr>
    <tr>
      <th>Alderwood, Long Branch</th>
      <td>9</td>
      <td>9</td>
      <td>9</td>
      <td>9</td>
      <td>9</td>
      <td>9</td>
    </tr>
    <tr>
      <th>Bathurst Manor, Wilson Heights, Downsview North</th>
      <td>19</td>
      <td>19</td>
      <td>19</td>
      <td>19</td>
      <td>19</td>
      <td>19</td>
    </tr>
    <tr>
      <th>Bayview Village</th>
      <td>4</td>
      <td>4</td>
      <td>4</td>
      <td>4</td>
      <td>4</td>
      <td>4</td>
    </tr>
    <tr>
      <th>Bedford Park, Lawrence Manor East</th>
      <td>24</td>
      <td>24</td>
      <td>24</td>
      <td>24</td>
      <td>24</td>
      <td>24</td>
    </tr>
    <tr>
      <th>...</th>
      <td>...</td>
      <td>...</td>
      <td>...</td>
      <td>...</td>
      <td>...</td>
      <td>...</td>
    </tr>
    <tr>
      <th>Willowdale, Willowdale East</th>
      <td>34</td>
      <td>34</td>
      <td>34</td>
      <td>34</td>
      <td>34</td>
      <td>34</td>
    </tr>
    <tr>
      <th>Willowdale, Willowdale West</th>
      <td>6</td>
      <td>6</td>
      <td>6</td>
      <td>6</td>
      <td>6</td>
      <td>6</td>
    </tr>
    <tr>
      <th>Woburn</th>
      <td>4</td>
      <td>4</td>
      <td>4</td>
      <td>4</td>
      <td>4</td>
      <td>4</td>
    </tr>
    <tr>
      <th>Woodbine Heights</th>
      <td>6</td>
      <td>6</td>
      <td>6</td>
      <td>6</td>
      <td>6</td>
      <td>6</td>
    </tr>
    <tr>
      <th>York Mills West</th>
      <td>4</td>
      <td>4</td>
      <td>4</td>
      <td>4</td>
      <td>4</td>
      <td>4</td>
    </tr>
  </tbody>
</table>
<p>95 rows × 6 columns</p>
</div>
</div>

</div>

</div>
</div>

</div>
<div class="cell border-box-sizing text_cell rendered"><div class="prompt input_prompt">
</div><div class="inner_cell">
<div class="text_cell_render border-box-sizing rendered_html">
<p><br><br>We use <strong>'get_dummies'</strong> method to convert categorical variables into dummy variables and we store the information in a new dataframe</p>

</div>
</div>
</div>
<div class="cell border-box-sizing code_cell rendered">
<div class="input">
<div class="prompt input_prompt">In&nbsp;[27]:</div>
<div class="inner_cell">
    <div class="input_area">
<div class=" highlight hl-ipython3"><pre><span></span><span class="n">toronto_onehot</span> <span class="o">=</span> <span class="n">pd</span><span class="o">.</span><span class="n">get_dummies</span><span class="p">(</span><span class="n">toronto_venues</span><span class="p">[[</span><span class="s1">&#39;Venue Category&#39;</span><span class="p">]],</span> <span class="n">prefix</span><span class="o">=</span><span class="s2">&quot;&quot;</span><span class="p">,</span> <span class="n">prefix_sep</span><span class="o">=</span><span class="s2">&quot;&quot;</span><span class="p">)</span>

<span class="n">toronto_onehot</span><span class="p">[</span><span class="s1">&#39;Neighborhood&#39;</span><span class="p">]</span> <span class="o">=</span> <span class="n">toronto_venues</span><span class="p">[</span><span class="s1">&#39;Neighborhood&#39;</span><span class="p">]</span> 

<span class="n">fixed_columns</span> <span class="o">=</span> <span class="p">[</span><span class="n">toronto_onehot</span><span class="o">.</span><span class="n">columns</span><span class="p">[</span><span class="o">-</span><span class="mi">1</span><span class="p">]]</span> <span class="o">+</span> <span class="nb">list</span><span class="p">(</span><span class="n">toronto_onehot</span><span class="o">.</span><span class="n">columns</span><span class="p">[:</span><span class="o">-</span><span class="mi">1</span><span class="p">])</span>
<span class="n">toronto_onehot</span> <span class="o">=</span> <span class="n">toronto_onehot</span><span class="p">[</span><span class="n">fixed_columns</span><span class="p">]</span>
</pre></div>

    </div>
</div>
</div>

</div>
<div class="cell border-box-sizing text_cell rendered"><div class="prompt input_prompt">
</div><div class="inner_cell">
<div class="text_cell_render border-box-sizing rendered_html">
<p><br><br>Let's group rows by neighborhood and by taking the mean of the frequency of occurrence of each category</p>

</div>
</div>
</div>
<div class="cell border-box-sizing code_cell rendered">
<div class="input">
<div class="prompt input_prompt">In&nbsp;[28]:</div>
<div class="inner_cell">
    <div class="input_area">
<div class=" highlight hl-ipython3"><pre><span></span><span class="n">toronto_grouped</span> <span class="o">=</span> <span class="n">toronto_onehot</span><span class="o">.</span><span class="n">groupby</span><span class="p">(</span><span class="s1">&#39;Neighborhood&#39;</span><span class="p">)</span><span class="o">.</span><span class="n">mean</span><span class="p">()</span><span class="o">.</span><span class="n">reset_index</span><span class="p">()</span>
<span class="n">toronto_grouped</span>
</pre></div>

    </div>
</div>
</div>

<div class="output_wrapper">
<div class="output">


<div class="output_area">

    <div class="prompt output_prompt">Out[28]:</div>



<div class="output_html rendered_html output_subarea output_execute_result">
<div>
<style scoped>
    .dataframe tbody tr th:only-of-type {
        vertical-align: middle;
    }

    .dataframe tbody tr th {
        vertical-align: top;
    }

    .dataframe thead th {
        text-align: right;
    }
</style>
<table border="1" class="dataframe">
  <thead>
    <tr style="text-align: right;">
      <th></th>
      <th>Neighborhood</th>
      <th>Yoga Studio</th>
      <th>Accessories Store</th>
      <th>Afghan Restaurant</th>
      <th>Airport</th>
      <th>Airport Food Court</th>
      <th>Airport Gate</th>
      <th>Airport Lounge</th>
      <th>Airport Service</th>
      <th>Airport Terminal</th>
      <th>...</th>
      <th>Trail</th>
      <th>Train Station</th>
      <th>Vegetarian / Vegan Restaurant</th>
      <th>Video Game Store</th>
      <th>Video Store</th>
      <th>Vietnamese Restaurant</th>
      <th>Warehouse Store</th>
      <th>Wine Bar</th>
      <th>Wings Joint</th>
      <th>Women's Store</th>
    </tr>
  </thead>
  <tbody>
    <tr>
      <th>0</th>
      <td>Agincourt</td>
      <td>0.0</td>
      <td>0.0</td>
      <td>0.0</td>
      <td>0.0</td>
      <td>0.0</td>
      <td>0.0</td>
      <td>0.0</td>
      <td>0.0</td>
      <td>0.0</td>
      <td>...</td>
      <td>0.0</td>
      <td>0.0</td>
      <td>0.0</td>
      <td>0.0</td>
      <td>0.000000</td>
      <td>0.000000</td>
      <td>0.0</td>
      <td>0.0</td>
      <td>0.0</td>
      <td>0.0</td>
    </tr>
    <tr>
      <th>1</th>
      <td>Alderwood, Long Branch</td>
      <td>0.0</td>
      <td>0.0</td>
      <td>0.0</td>
      <td>0.0</td>
      <td>0.0</td>
      <td>0.0</td>
      <td>0.0</td>
      <td>0.0</td>
      <td>0.0</td>
      <td>...</td>
      <td>0.0</td>
      <td>0.0</td>
      <td>0.0</td>
      <td>0.0</td>
      <td>0.000000</td>
      <td>0.000000</td>
      <td>0.0</td>
      <td>0.0</td>
      <td>0.0</td>
      <td>0.0</td>
    </tr>
    <tr>
      <th>2</th>
      <td>Bathurst Manor, Wilson Heights, Downsview North</td>
      <td>0.0</td>
      <td>0.0</td>
      <td>0.0</td>
      <td>0.0</td>
      <td>0.0</td>
      <td>0.0</td>
      <td>0.0</td>
      <td>0.0</td>
      <td>0.0</td>
      <td>...</td>
      <td>0.0</td>
      <td>0.0</td>
      <td>0.0</td>
      <td>0.0</td>
      <td>0.000000</td>
      <td>0.000000</td>
      <td>0.0</td>
      <td>0.0</td>
      <td>0.0</td>
      <td>0.0</td>
    </tr>
    <tr>
      <th>3</th>
      <td>Bayview Village</td>
      <td>0.0</td>
      <td>0.0</td>
      <td>0.0</td>
      <td>0.0</td>
      <td>0.0</td>
      <td>0.0</td>
      <td>0.0</td>
      <td>0.0</td>
      <td>0.0</td>
      <td>...</td>
      <td>0.0</td>
      <td>0.0</td>
      <td>0.0</td>
      <td>0.0</td>
      <td>0.000000</td>
      <td>0.000000</td>
      <td>0.0</td>
      <td>0.0</td>
      <td>0.0</td>
      <td>0.0</td>
    </tr>
    <tr>
      <th>4</th>
      <td>Bedford Park, Lawrence Manor East</td>
      <td>0.0</td>
      <td>0.0</td>
      <td>0.0</td>
      <td>0.0</td>
      <td>0.0</td>
      <td>0.0</td>
      <td>0.0</td>
      <td>0.0</td>
      <td>0.0</td>
      <td>...</td>
      <td>0.0</td>
      <td>0.0</td>
      <td>0.0</td>
      <td>0.0</td>
      <td>0.000000</td>
      <td>0.000000</td>
      <td>0.0</td>
      <td>0.0</td>
      <td>0.0</td>
      <td>0.0</td>
    </tr>
    <tr>
      <th>...</th>
      <td>...</td>
      <td>...</td>
      <td>...</td>
      <td>...</td>
      <td>...</td>
      <td>...</td>
      <td>...</td>
      <td>...</td>
      <td>...</td>
      <td>...</td>
      <td>...</td>
      <td>...</td>
      <td>...</td>
      <td>...</td>
      <td>...</td>
      <td>...</td>
      <td>...</td>
      <td>...</td>
      <td>...</td>
      <td>...</td>
      <td>...</td>
    </tr>
    <tr>
      <th>90</th>
      <td>Willowdale, Willowdale East</td>
      <td>0.0</td>
      <td>0.0</td>
      <td>0.0</td>
      <td>0.0</td>
      <td>0.0</td>
      <td>0.0</td>
      <td>0.0</td>
      <td>0.0</td>
      <td>0.0</td>
      <td>...</td>
      <td>0.0</td>
      <td>0.0</td>
      <td>0.0</td>
      <td>0.0</td>
      <td>0.000000</td>
      <td>0.029412</td>
      <td>0.0</td>
      <td>0.0</td>
      <td>0.0</td>
      <td>0.0</td>
    </tr>
    <tr>
      <th>91</th>
      <td>Willowdale, Willowdale West</td>
      <td>0.0</td>
      <td>0.0</td>
      <td>0.0</td>
      <td>0.0</td>
      <td>0.0</td>
      <td>0.0</td>
      <td>0.0</td>
      <td>0.0</td>
      <td>0.0</td>
      <td>...</td>
      <td>0.0</td>
      <td>0.0</td>
      <td>0.0</td>
      <td>0.0</td>
      <td>0.000000</td>
      <td>0.000000</td>
      <td>0.0</td>
      <td>0.0</td>
      <td>0.0</td>
      <td>0.0</td>
    </tr>
    <tr>
      <th>92</th>
      <td>Woburn</td>
      <td>0.0</td>
      <td>0.0</td>
      <td>0.0</td>
      <td>0.0</td>
      <td>0.0</td>
      <td>0.0</td>
      <td>0.0</td>
      <td>0.0</td>
      <td>0.0</td>
      <td>...</td>
      <td>0.0</td>
      <td>0.0</td>
      <td>0.0</td>
      <td>0.0</td>
      <td>0.000000</td>
      <td>0.000000</td>
      <td>0.0</td>
      <td>0.0</td>
      <td>0.0</td>
      <td>0.0</td>
    </tr>
    <tr>
      <th>93</th>
      <td>Woodbine Heights</td>
      <td>0.0</td>
      <td>0.0</td>
      <td>0.0</td>
      <td>0.0</td>
      <td>0.0</td>
      <td>0.0</td>
      <td>0.0</td>
      <td>0.0</td>
      <td>0.0</td>
      <td>...</td>
      <td>0.0</td>
      <td>0.0</td>
      <td>0.0</td>
      <td>0.0</td>
      <td>0.166667</td>
      <td>0.000000</td>
      <td>0.0</td>
      <td>0.0</td>
      <td>0.0</td>
      <td>0.0</td>
    </tr>
    <tr>
      <th>94</th>
      <td>York Mills West</td>
      <td>0.0</td>
      <td>0.0</td>
      <td>0.0</td>
      <td>0.0</td>
      <td>0.0</td>
      <td>0.0</td>
      <td>0.0</td>
      <td>0.0</td>
      <td>0.0</td>
      <td>...</td>
      <td>0.0</td>
      <td>0.0</td>
      <td>0.0</td>
      <td>0.0</td>
      <td>0.000000</td>
      <td>0.000000</td>
      <td>0.0</td>
      <td>0.0</td>
      <td>0.0</td>
      <td>0.0</td>
    </tr>
  </tbody>
</table>
<p>95 rows × 275 columns</p>
</div>
</div>

</div>

</div>
</div>

</div>
<div class="cell border-box-sizing text_cell rendered"><div class="prompt input_prompt">
</div><div class="inner_cell">
<div class="text_cell_render border-box-sizing rendered_html">
<p><br><br>Let's print each neighborhood along with the top 10 most common venues</p>

</div>
</div>
</div>
<div class="cell border-box-sizing code_cell rendered">
<div class="input">
<div class="prompt input_prompt">In&nbsp;[29]:</div>
<div class="inner_cell">
    <div class="input_area">
<div class=" highlight hl-ipython3"><pre><span></span><span class="n">num_top_venues</span> <span class="o">=</span> <span class="mi">10</span>

<span class="k">for</span> <span class="n">hood</span> <span class="ow">in</span> <span class="n">toronto_grouped</span><span class="p">[</span><span class="s1">&#39;Neighborhood&#39;</span><span class="p">]:</span>
    <span class="nb">print</span><span class="p">(</span><span class="s2">&quot;----&quot;</span><span class="o">+</span><span class="n">hood</span><span class="o">+</span><span class="s2">&quot;----&quot;</span><span class="p">)</span>
    <span class="n">temp</span> <span class="o">=</span> <span class="n">toronto_grouped</span><span class="p">[</span><span class="n">toronto_grouped</span><span class="p">[</span><span class="s1">&#39;Neighborhood&#39;</span><span class="p">]</span> <span class="o">==</span> <span class="n">hood</span><span class="p">]</span><span class="o">.</span><span class="n">T</span><span class="o">.</span><span class="n">reset_index</span><span class="p">()</span>
    <span class="n">temp</span><span class="o">.</span><span class="n">columns</span> <span class="o">=</span> <span class="p">[</span><span class="s1">&#39;venue&#39;</span><span class="p">,</span><span class="s1">&#39;freq&#39;</span><span class="p">]</span>
    <span class="n">temp</span> <span class="o">=</span> <span class="n">temp</span><span class="o">.</span><span class="n">iloc</span><span class="p">[</span><span class="mi">1</span><span class="p">:]</span>
    <span class="n">temp</span><span class="p">[</span><span class="s1">&#39;freq&#39;</span><span class="p">]</span> <span class="o">=</span> <span class="n">temp</span><span class="p">[</span><span class="s1">&#39;freq&#39;</span><span class="p">]</span><span class="o">.</span><span class="n">astype</span><span class="p">(</span><span class="nb">float</span><span class="p">)</span>
    <span class="n">temp</span> <span class="o">=</span> <span class="n">temp</span><span class="o">.</span><span class="n">round</span><span class="p">({</span><span class="s1">&#39;freq&#39;</span><span class="p">:</span> <span class="mi">2</span><span class="p">})</span>
    <span class="nb">print</span><span class="p">(</span><span class="n">temp</span><span class="o">.</span><span class="n">sort_values</span><span class="p">(</span><span class="s1">&#39;freq&#39;</span><span class="p">,</span> <span class="n">ascending</span><span class="o">=</span><span class="kc">False</span><span class="p">)</span><span class="o">.</span><span class="n">reset_index</span><span class="p">(</span><span class="n">drop</span><span class="o">=</span><span class="kc">True</span><span class="p">)</span><span class="o">.</span><span class="n">head</span><span class="p">(</span><span class="n">num_top_venues</span><span class="p">))</span>
    <span class="nb">print</span><span class="p">(</span><span class="s1">&#39;</span><span class="se">\n</span><span class="s1">&#39;</span><span class="p">)</span>
</pre></div>

    </div>
</div>
</div>

<div class="output_wrapper">
<div class="output">


<div class="output_area">

    <div class="prompt"></div>


<div class="output_subarea output_stream output_stdout output_text">
<pre>----Agincourt----
                       venue  freq
0                     Lounge  0.25
1               Skating Rink  0.25
2  Latin American Restaurant  0.25
3             Breakfast Spot  0.25
4             Medical Center  0.00
5             Massage Studio  0.00
6          Martial Arts Dojo  0.00
7   Mediterranean Restaurant  0.00
8        Monument / Landmark  0.00
9                Men&#39;s Store  0.00


----Alderwood, Long Branch----
                       venue  freq
0                Pizza Place  0.22
1                        Gym  0.11
2               Skating Rink  0.11
3                   Pharmacy  0.11
4                Coffee Shop  0.11
5             Sandwich Place  0.11
6                        Pub  0.11
7                       Pool  0.11
8                Yoga Studio  0.00
9  Middle Eastern Restaurant  0.00


----Bathurst Manor, Wilson Heights, Downsview North----
                 venue  freq
0                 Bank  0.11
1          Coffee Shop  0.11
2       Ice Cream Shop  0.05
3           Restaurant  0.05
4          Supermarket  0.05
5                Diner  0.05
6  Fried Chicken Joint  0.05
7          Gas Station  0.05
8    Mobile Phone Shop  0.05
9        Deli / Bodega  0.05


----Bayview Village----
                             venue  freq
0                             Café  0.25
1              Japanese Restaurant  0.25
2                             Bank  0.25
3               Chinese Restaurant  0.25
4                      Yoga Studio  0.00
5                Mobile Phone Shop  0.00
6              Monument / Landmark  0.00
7  Molecular Gastronomy Restaurant  0.00
8       Modern European Restaurant  0.00
9               Miscellaneous Shop  0.00


----Bedford Park, Lawrence Manor East----
                venue  freq
0         Coffee Shop  0.08
1      Sandwich Place  0.08
2  Italian Restaurant  0.08
3     Thai Restaurant  0.08
4          Restaurant  0.08
5    Sushi Restaurant  0.04
6                Café  0.04
7             Butcher  0.04
8                 Pub  0.04
9        Liquor Store  0.04


----Berczy Park----
                venue  freq
0         Coffee Shop  0.10
1            Beer Bar  0.03
2                Café  0.03
3         Cheese Shop  0.03
4        Cocktail Bar  0.03
5          Restaurant  0.03
6      Farmers Market  0.03
7  Seafood Restaurant  0.03
8              Bakery  0.03
9                Park  0.02


----Birch Cliff, Cliffside West----
                             venue  freq
0                  College Stadium  0.25
1                     Skating Rink  0.25
2            General Entertainment  0.25
3                             Café  0.25
4               Miscellaneous Shop  0.00
5              Moroccan Restaurant  0.00
6              Monument / Landmark  0.00
7  Molecular Gastronomy Restaurant  0.00
8       Modern European Restaurant  0.00
9                Mobile Phone Shop  0.00


----Brockton, Parkdale Village, Exhibition Place----
                    venue  freq
0                    Café  0.13
1          Breakfast Spot  0.09
2                  Bakery  0.09
3             Coffee Shop  0.09
4               Nightclub  0.04
5   Performing Arts Venue  0.04
6           Burrito Place  0.04
7                 Stadium  0.04
8  Furniture / Home Store  0.04
9                     Bar  0.04


----Business reply mail Processing Centre, South Central Letter Processing Plant Toronto----
                  venue  freq
0    Light Rail Station  0.12
1         Garden Center  0.06
2      Recording Studio  0.06
3        Farmers Market  0.06
4  Fast Food Restaurant  0.06
5            Comic Shop  0.06
6               Brewery  0.06
7         Burrito Place  0.06
8            Restaurant  0.06
9                Garden  0.06


----CN Tower, King and Spadina, Railway Lands, Harbourfront West, Bathurst Quay, South Niagara, Island airport----
                 venue  freq
0      Airport Service  0.19
1     Airport Terminal  0.12
2       Airport Lounge  0.12
3        Boat or Ferry  0.06
4             Boutique  0.06
5     Sculpture Garden  0.06
6          Coffee Shop  0.06
7      Harbor / Marina  0.06
8  Rental Car Location  0.06
9         Airport Gate  0.06


----Caledonia-Fairbanks----
                             venue  freq
0                             Park  0.50
1                    Women&#39;s Store  0.25
2                             Pool  0.25
3                    Metro Station  0.00
4  Molecular Gastronomy Restaurant  0.00
5       Modern European Restaurant  0.00
6                Mobile Phone Shop  0.00
7               Miscellaneous Shop  0.00
8        Middle Eastern Restaurant  0.00
9               Mexican Restaurant  0.00


----Canada Post Gateway Processing Centre----
                       venue  freq
0                      Hotel  0.15
1                Coffee Shop  0.15
2             Sandwich Place  0.08
3               Intersection  0.08
4   Mediterranean Restaurant  0.08
5        Fried Chicken Joint  0.08
6                        Gym  0.08
7                Gas Station  0.08
8        American Restaurant  0.08
9  Middle Eastern Restaurant  0.08


----Cedarbrae----
                  venue  freq
0      Hakka Restaurant  0.12
1       Thai Restaurant  0.12
2   Fried Chicken Joint  0.12
3                  Bank  0.12
4                Bakery  0.12
5  Caribbean Restaurant  0.12
6    Athletics &amp; Sports  0.12
7           Gas Station  0.12
8                Office  0.00
9   Monument / Landmark  0.00


----Central Bay Street----
                    venue  freq
0             Coffee Shop  0.17
1          Sandwich Place  0.06
2                    Café  0.05
3      Italian Restaurant  0.05
4             Salad Place  0.03
5            Burger Joint  0.03
6         Bubble Tea Shop  0.03
7     Japanese Restaurant  0.03
8        Department Store  0.03
9  Furniture / Home Store  0.02


----Christie----
                venue  freq
0       Grocery Store  0.25
1                Café  0.19
2                Park  0.12
3          Restaurant  0.06
4          Baby Store  0.06
5               Diner  0.06
6         Candy Store  0.06
7           Nightclub  0.06
8  Italian Restaurant  0.06
9         Coffee Shop  0.06


----Church and Wellesley----
                      venue  freq
0               Coffee Shop  0.10
1       Japanese Restaurant  0.06
2          Sushi Restaurant  0.05
3                   Gay Bar  0.04
4                Restaurant  0.04
5               Yoga Studio  0.03
6  Mediterranean Restaurant  0.03
7               Men&#39;s Store  0.03
8              Dance Studio  0.03
9                       Pub  0.03


----Clarks Corners, Tam O&#39;Shanter, Sullivan----
                  venue  freq
0           Pizza Place  0.17
1  Fast Food Restaurant  0.08
2          Noodle House  0.08
3    Italian Restaurant  0.08
4   Fried Chicken Joint  0.08
5           Gas Station  0.08
6       Thai Restaurant  0.08
7    Chinese Restaurant  0.08
8                  Bank  0.08
9     Convenience Store  0.08


----Cliffside, Cliffcrest, Scarborough Village West----
                             venue  freq
0              American Restaurant   0.5
1                            Motel   0.5
2              Monument / Landmark   0.0
3  Molecular Gastronomy Restaurant   0.0
4       Modern European Restaurant   0.0
5                Mobile Phone Shop   0.0
6               Miscellaneous Shop   0.0
7        Middle Eastern Restaurant   0.0
8               Mexican Restaurant   0.0
9                      Yoga Studio   0.0


----Commerce Court, Victoria Hotel----
                 venue  freq
0          Coffee Shop  0.13
1                 Café  0.07
2           Restaurant  0.07
3                Hotel  0.06
4  American Restaurant  0.04
5                  Gym  0.04
6   Italian Restaurant  0.03
7  Japanese Restaurant  0.03
8   Seafood Restaurant  0.03
9         Cocktail Bar  0.02


----Davisville----
                venue  freq
0        Dessert Shop  0.09
1      Sandwich Place  0.09
2         Pizza Place  0.09
3                Café  0.06
4  Italian Restaurant  0.06
5                 Gym  0.06
6    Sushi Restaurant  0.06
7         Coffee Shop  0.06
8             Brewery  0.03
9   Indian Restaurant  0.03


----Davisville North----
                        venue  freq
0            Department Store  0.14
1                        Park  0.14
2        Gym / Fitness Center  0.14
3              Sandwich Place  0.14
4              Breakfast Spot  0.14
5           Food &amp; Drink Shop  0.14
6                       Hotel  0.14
7          Mexican Restaurant  0.00
8  Modern European Restaurant  0.00
9           Mobile Phone Shop  0.00


----Del Ray, Mount Dennis, Keelsdale and Silverthorn----
                             venue  freq
0                   Discount Store  0.17
1                       Restaurant  0.17
2                   Sandwich Place  0.17
3                Convenience Store  0.17
4                      Coffee Shop  0.17
5                              Bar  0.17
6               Miscellaneous Shop  0.00
7  Molecular Gastronomy Restaurant  0.00
8       Modern European Restaurant  0.00
9                Mobile Phone Shop  0.00


----Don Mills----
                 venue  freq
0                  Gym  0.12
1           Restaurant  0.08
2           Beer Store  0.08
3  Japanese Restaurant  0.08
4          Coffee Shop  0.08
5          Supermarket  0.04
6   Chinese Restaurant  0.04
7       Baseball Field  0.04
8      Bubble Tea Shop  0.04
9       Clothing Store  0.04


----Dorset Park, Wexford Heights, Scarborough Town Centre----
                             venue  freq
0                Indian Restaurant   0.4
1                        Pet Store   0.2
2            Vietnamese Restaurant   0.2
3               Chinese Restaurant   0.2
4        Middle Eastern Restaurant   0.0
5              Monument / Landmark   0.0
6  Molecular Gastronomy Restaurant   0.0
7       Modern European Restaurant   0.0
8                Mobile Phone Shop   0.0
9               Miscellaneous Shop   0.0


----Downsview----
                venue  freq
0       Grocery Store  0.18
1                Park  0.12
2        Liquor Store  0.06
3               Hotel  0.06
4                Bank  0.06
5    Business Service  0.06
6  Athletics &amp; Sports  0.06
7          Food Truck  0.06
8      Baseball Field  0.06
9       Shopping Mall  0.06


----Dufferin, Dovercourt Village----
                       venue  freq
0                   Pharmacy  0.14
1                     Bakery  0.14
2  Middle Eastern Restaurant  0.07
3                        Bar  0.07
4                       Café  0.07
5                Music Venue  0.07
6                Supermarket  0.07
7                Coffee Shop  0.07
8              Grocery Store  0.07
9                       Park  0.07


----East Toronto, Broadview North (Old East York)----
                             venue  freq
0                             Park  0.50
1                    Metro Station  0.25
2                Convenience Store  0.25
3                      Yoga Studio  0.00
4  Molecular Gastronomy Restaurant  0.00
5       Modern European Restaurant  0.00
6                Mobile Phone Shop  0.00
7               Miscellaneous Shop  0.00
8        Middle Eastern Restaurant  0.00
9               Mexican Restaurant  0.00


----Eringate, Bloordale Gardens, Old Burnhamthorpe, Markland Wood----
                      venue  freq
0                 Pet Store  0.14
1              Liquor Store  0.14
2                Beer Store  0.14
3               Coffee Shop  0.14
4                      Café  0.14
5               Pizza Place  0.14
6                  Pharmacy  0.14
7  Mediterranean Restaurant  0.00
8            Medical Center  0.00
9               Men&#39;s Store  0.00


----Fairview, Henry Farm, Oriole----
                  venue  freq
0        Clothing Store  0.13
1           Coffee Shop  0.07
2  Fast Food Restaurant  0.06
3            Restaurant  0.04
4                Bakery  0.03
5   Japanese Restaurant  0.03
6                  Bank  0.03
7            Food Court  0.03
8      Toy / Game Store  0.03
9    Chinese Restaurant  0.03


----First Canadian Place, Underground city----
                 venue  freq
0          Coffee Shop  0.12
1                 Café  0.07
2                Hotel  0.05
3           Restaurant  0.04
4                  Gym  0.04
5  Japanese Restaurant  0.04
6  American Restaurant  0.03
7          Salad Place  0.03
8   Seafood Restaurant  0.03
9           Steakhouse  0.03


----Forest Hill North &amp; West, Forest Hill Road Park----
                       venue  freq
0                      Trail  0.25
1                       Park  0.25
2           Sushi Restaurant  0.25
3              Jewelry Store  0.25
4                Yoga Studio  0.00
5          Mobile Phone Shop  0.00
6         Miscellaneous Shop  0.00
7  Middle Eastern Restaurant  0.00
8         Mexican Restaurant  0.00
9              Metro Station  0.00


----Garden District, Ryerson----
                       venue  freq
0             Clothing Store  0.10
1                Coffee Shop  0.08
2                       Café  0.04
3            Bubble Tea Shop  0.03
4             Cosmetics Shop  0.03
5        Japanese Restaurant  0.03
6         Italian Restaurant  0.03
7                  Bookstore  0.02
8             Lingerie Store  0.02
9  Middle Eastern Restaurant  0.02


----Glencairn----
                        venue  freq
0                         Pub  0.25
1                        Park  0.25
2                 Pizza Place  0.25
3         Japanese Restaurant  0.25
4                 Yoga Studio  0.00
5  Modern European Restaurant  0.00
6           Mobile Phone Shop  0.00
7          Miscellaneous Shop  0.00
8   Middle Eastern Restaurant  0.00
9          Mexican Restaurant  0.00


----Golden Mile, Clairlea, Oakridge----
                             venue  freq
0                           Bakery  0.25
1                     Intersection  0.12
2                     Soccer Field  0.12
3                             Park  0.12
4                      Bus Station  0.12
5                         Bus Line  0.12
6                   Ice Cream Shop  0.12
7                Mobile Phone Shop  0.00
8  Molecular Gastronomy Restaurant  0.00
9       Modern European Restaurant  0.00


----Guildwood, Morningside, West Hill----
                        venue  freq
0                Intersection  0.12
1              Medical Center  0.12
2           Electronics Store  0.12
3              Breakfast Spot  0.12
4                  Restaurant  0.12
5         Rental Car Location  0.12
6          Mexican Restaurant  0.12
7                        Bank  0.12
8  Modern European Restaurant  0.00
9         Monument / Landmark  0.00


----Harbourfront East, Union Station, Toronto Islands----
                 venue  freq
0          Coffee Shop  0.12
1             Aquarium  0.05
2                Hotel  0.04
3                 Café  0.04
4              Brewery  0.03
5       Scenic Lookout  0.03
6  Fried Chicken Joint  0.03
7           Restaurant  0.03
8          Pizza Place  0.02
9     Baseball Stadium  0.02


----High Park, The Junction South----
                       venue  freq
0                       Café  0.08
1         Mexican Restaurant  0.08
2            Thai Restaurant  0.08
3                     Bakery  0.04
4        Arts &amp; Crafts Store  0.04
5                  Gastropub  0.04
6                        Bar  0.04
7     Furniture / Home Store  0.04
8  Cajun / Creole Restaurant  0.04
9        Fried Chicken Joint  0.04


----Hillcrest Village----
                        venue  freq
0                        Pool  0.25
1    Mediterranean Restaurant  0.25
2                 Golf Course  0.25
3                     Dog Run  0.25
4               Metro Station  0.00
5  Modern European Restaurant  0.00
6           Mobile Phone Shop  0.00
7          Miscellaneous Shop  0.00
8   Middle Eastern Restaurant  0.00
9          Mexican Restaurant  0.00


----Humber Summit----
                             venue  freq
0           Furniture / Home Store  0.25
1                              Gym  0.25
2                      Pizza Place  0.25
3                     Home Service  0.25
4               Mexican Restaurant  0.00
5              Monument / Landmark  0.00
6  Molecular Gastronomy Restaurant  0.00
7       Modern European Restaurant  0.00
8                Mobile Phone Shop  0.00
9               Miscellaneous Shop  0.00


----Humberlea, Emery----
                             venue  freq
0                   Baseball Field   1.0
1                      Yoga Studio   0.0
2               Mexican Restaurant   0.0
3  Molecular Gastronomy Restaurant   0.0
4       Modern European Restaurant   0.0
5                Mobile Phone Shop   0.0
6               Miscellaneous Shop   0.0
7        Middle Eastern Restaurant   0.0
8                    Metro Station   0.0
9              Moroccan Restaurant   0.0


----Humewood-Cedarvale----
                        venue  freq
0                       Field  0.25
1                  Playground  0.25
2                Hockey Arena  0.25
3                       Trail  0.25
4                 Yoga Studio  0.00
5               Metro Station  0.00
6  Modern European Restaurant  0.00
7           Mobile Phone Shop  0.00
8          Miscellaneous Shop  0.00
9   Middle Eastern Restaurant  0.00


----India Bazaar, The Beaches West----
                venue  freq
0          Board Shop  0.05
1        Liquor Store  0.05
2    Sushi Restaurant  0.05
3          Restaurant  0.05
4             Brewery  0.05
5  Italian Restaurant  0.05
6      Sandwich Place  0.05
7       Movie Theater  0.05
8                 Pub  0.05
9  Light Rail Station  0.05


----Kennedy Park, Ionview, East Birchmount Park----
                             venue  freq
0                 Department Store  0.25
1                      Bus Station  0.25
2                   Discount Store  0.25
3                      Coffee Shop  0.25
4               Miscellaneous Shop  0.00
5              Monument / Landmark  0.00
6  Molecular Gastronomy Restaurant  0.00
7       Modern European Restaurant  0.00
8                Mobile Phone Shop  0.00
9        Middle Eastern Restaurant  0.00


----Kensington Market, Chinatown, Grange Park----
                           venue  freq
0                           Café  0.08
1                    Coffee Shop  0.06
2  Vegetarian / Vegan Restaurant  0.06
3                   Dessert Shop  0.05
4                            Bar  0.05
5          Vietnamese Restaurant  0.05
6             Mexican Restaurant  0.05
7                           Park  0.03
8                         Bakery  0.03
9                    Gaming Cafe  0.03


----Kingsview Village, St. Phillips, Martin Grove Gardens, Richview Gardens----
                        venue  freq
0                    Bus Line  0.25
1                        Park  0.25
2                 Pizza Place  0.25
3              Sandwich Place  0.25
4                 Yoga Studio  0.00
5          Mexican Restaurant  0.00
6  Modern European Restaurant  0.00
7           Mobile Phone Shop  0.00
8          Miscellaneous Shop  0.00
9   Middle Eastern Restaurant  0.00


----Lawrence Manor, Lawrence Heights----
                    venue  freq
0          Clothing Store  0.43
1           Women&#39;s Store  0.07
2   Vietnamese Restaurant  0.07
3      Miscellaneous Shop  0.07
4             Coffee Shop  0.07
5  Furniture / Home Store  0.07
6             Event Space  0.07
7       Accessories Store  0.07
8                Boutique  0.07
9          Medical Center  0.00


----Lawrence Park----
                        venue  freq
0                    Bus Line  0.33
1                        Park  0.33
2                 Swim School  0.33
3                 Yoga Studio  0.00
4          Mexican Restaurant  0.00
5  Modern European Restaurant  0.00
6           Mobile Phone Shop  0.00
7          Miscellaneous Shop  0.00
8   Middle Eastern Restaurant  0.00
9               Metro Station  0.00


----Leaside----
                    venue  freq
0     Sporting Goods Shop  0.09
1             Coffee Shop  0.09
2            Burger Joint  0.06
3  Furniture / Home Store  0.06
4                    Bank  0.06
5                 Brewery  0.03
6          Breakfast Spot  0.03
7      Mexican Restaurant  0.03
8          Sandwich Place  0.03
9            Liquor Store  0.03


----Little Portugal, Trinity----
                   venue  freq
0                    Bar  0.10
1            Coffee Shop  0.06
2       Asian Restaurant  0.06
3            Men&#39;s Store  0.04
4                   Café  0.04
5             Restaurant  0.04
6  Vietnamese Restaurant  0.04
7                  Diner  0.02
8     Mexican Restaurant  0.02
9      Korean Restaurant  0.02


----Malvern, Rouge----
                             venue  freq
0             Fast Food Restaurant   1.0
1                    Metro Station   0.0
2  Molecular Gastronomy Restaurant   0.0
3       Modern European Restaurant   0.0
4                Mobile Phone Shop   0.0
5               Miscellaneous Shop   0.0
6        Middle Eastern Restaurant   0.0
7               Mexican Restaurant   0.0
8                      Men&#39;s Store   0.0
9                           Lounge   0.0


----Milliken, Agincourt North, Steeles East, L&#39;Amoreaux East----
                             venue  freq
0                             Park   0.5
1                       Playground   0.5
2                      Yoga Studio   0.0
3                    Metro Station   0.0
4  Molecular Gastronomy Restaurant   0.0
5       Modern European Restaurant   0.0
6                Mobile Phone Shop   0.0
7               Miscellaneous Shop   0.0
8        Middle Eastern Restaurant   0.0
9               Mexican Restaurant   0.0


----Mimico NW, The Queensway West, South of Bloor, Kingsway Park South West, Royal York South West----
                    venue  freq
0             Flower Shop  0.06
1  Thrift / Vintage Store  0.06
2            Burger Joint  0.06
3             Social Club  0.06
4          Sandwich Place  0.06
5              Kids Store  0.06
6         Supplement Shop  0.06
7          Discount Store  0.06
8                  Bakery  0.06
9           Tanning Salon  0.06


----Moore Park, Summerhill East----
                       venue  freq
0                       Park  0.25
1                     Lawyer  0.25
2               Tennis Court  0.25
3                      Trail  0.25
4                Yoga Studio  0.00
5                Men&#39;s Store  0.00
6          Mobile Phone Shop  0.00
7         Miscellaneous Shop  0.00
8  Middle Eastern Restaurant  0.00
9         Mexican Restaurant  0.00


----New Toronto, Mimico South, Humber Bay Shores----
                  venue  freq
0           Coffee Shop  0.14
1   American Restaurant  0.07
2   Fried Chicken Joint  0.07
3    Mexican Restaurant  0.07
4          Liquor Store  0.07
5                  Café  0.07
6            Restaurant  0.07
7           Pizza Place  0.07
8                   Gym  0.07
9  Fast Food Restaurant  0.07


----North Park, Maple Leaf Park, Upwood Park----
                        venue  freq
0                      Bakery   0.2
1                        Park   0.2
2  Construction &amp; Landscaping   0.2
3            Basketball Court   0.2
4                       Trail   0.2
5                 Yoga Studio   0.0
6          Mexican Restaurant   0.0
7  Modern European Restaurant   0.0
8           Mobile Phone Shop   0.0
9          Miscellaneous Shop   0.0


----North Toronto West, Lawrence Park----
                 venue  freq
0          Coffee Shop  0.10
1       Clothing Store  0.10
2          Yoga Studio  0.05
3                 Park  0.05
4           Shoe Store  0.05
5   Mexican Restaurant  0.05
6                  Spa  0.05
7  Sporting Goods Shop  0.05
8   Salon / Barbershop  0.05
9                 Café  0.05


----Northwest, West Humber - Clairville----
                             venue  freq
0                    Garden Center  0.25
1              Rental Car Location  0.25
2                        Drugstore  0.25
3                              Bar  0.25
4                      Yoga Studio  0.00
5        Middle Eastern Restaurant  0.00
6  Molecular Gastronomy Restaurant  0.00
7       Modern European Restaurant  0.00
8                Mobile Phone Shop  0.00
9               Miscellaneous Shop  0.00


----Northwood Park, York University----
                             venue  freq
0               Miscellaneous Shop  0.17
1               Falafel Restaurant  0.17
2                   Massage Studio  0.17
3                      Coffee Shop  0.17
4             Caribbean Restaurant  0.17
5                              Bar  0.17
6                      Yoga Studio  0.00
7              Monument / Landmark  0.00
8  Molecular Gastronomy Restaurant  0.00
9       Modern European Restaurant  0.00


----Old Mill South, King&#39;s Mill Park, Sunnylea, Humber Bay, Mimico NE, The Queensway East, Royal York South East, Kingsway Park South East----
                             venue  freq
0                   Baseball Field   1.0
1                      Yoga Studio   0.0
2               Mexican Restaurant   0.0
3  Molecular Gastronomy Restaurant   0.0
4       Modern European Restaurant   0.0
5                Mobile Phone Shop   0.0
6               Miscellaneous Shop   0.0
7        Middle Eastern Restaurant   0.0
8                    Metro Station   0.0
9              Moroccan Restaurant   0.0


----Parkdale, Roncesvalles----
                         venue  freq
0               Breakfast Spot  0.14
1                    Gift Shop  0.14
2                   Restaurant  0.07
3             Cuban Restaurant  0.07
4  Eastern European Restaurant  0.07
5                      Dog Run  0.07
6                          Bar  0.07
7                Movie Theater  0.07
8           Italian Restaurant  0.07
9                 Dessert Shop  0.07


----Parkview Hill, Woodbine Gardens----
                  venue  freq
0           Pizza Place   0.2
1             Pet Store   0.1
2             Gastropub   0.1
3          Intersection   0.1
4                  Café   0.1
5    Athletics &amp; Sports   0.1
6                  Bank   0.1
7  Gym / Fitness Center   0.1
8              Pharmacy   0.1
9           Men&#39;s Store   0.0


----Parkwoods----
                        venue  freq
0           Food &amp; Drink Shop   0.5
1                        Park   0.5
2                 Yoga Studio   0.0
3  Modern European Restaurant   0.0
4           Mobile Phone Shop   0.0
5          Miscellaneous Shop   0.0
6   Middle Eastern Restaurant   0.0
7          Mexican Restaurant   0.0
8               Metro Station   0.0
9                 Men&#39;s Store   0.0


----Queen&#39;s Park, Ontario Provincial Government----
               venue  freq
0        Coffee Shop  0.26
1              Diner  0.06
2        Yoga Studio  0.03
3  College Cafeteria  0.03
4   Sushi Restaurant  0.03
5           Beer Bar  0.03
6      Smoothie Shop  0.03
7      Burrito Place  0.03
8     Sandwich Place  0.03
9               Café  0.03


----Regent Park, Harbourfront----
               venue  freq
0        Coffee Shop  0.16
1               Park  0.07
2                Pub  0.07
3             Bakery  0.07
4     Breakfast Spot  0.04
5            Theater  0.04
6               Café  0.04
7     Farmers Market  0.02
8         Beer Store  0.02
9  French Restaurant  0.02


----Richmond, Adelaide, King----
             venue  freq
0      Coffee Shop  0.09
1             Café  0.05
2            Hotel  0.04
3              Gym  0.04
4   Clothing Store  0.04
5       Restaurant  0.04
6              Bar  0.03
7       Steakhouse  0.03
8  Thai Restaurant  0.03
9     Concert Hall  0.02


----Rosedale----
                        venue  freq
0                        Park  0.50
1                  Playground  0.25
2                       Trail  0.25
3                 Yoga Studio  0.00
4                 Men&#39;s Store  0.00
5  Modern European Restaurant  0.00
6           Mobile Phone Shop  0.00
7          Miscellaneous Shop  0.00
8   Middle Eastern Restaurant  0.00
9          Mexican Restaurant  0.00


----Roselawn----
                             venue  freq
0                           Garden   0.5
1                      Music Venue   0.5
2                      Yoga Studio   0.0
3              Moroccan Restaurant   0.0
4  Molecular Gastronomy Restaurant   0.0
5       Modern European Restaurant   0.0
6                Mobile Phone Shop   0.0
7               Miscellaneous Shop   0.0
8        Middle Eastern Restaurant   0.0
9               Mexican Restaurant   0.0


----Rouge Hill, Port Union, Highland Creek----
                             venue  freq
0                    Moving Target   0.5
1                              Bar   0.5
2                      Yoga Studio   0.0
3              Moroccan Restaurant   0.0
4  Molecular Gastronomy Restaurant   0.0
5       Modern European Restaurant   0.0
6                Mobile Phone Shop   0.0
7               Miscellaneous Shop   0.0
8        Middle Eastern Restaurant   0.0
9               Mexican Restaurant   0.0


----Runnymede, Swansea----
                venue  freq
0    Sushi Restaurant  0.09
1         Coffee Shop  0.09
2                Café  0.09
3  Italian Restaurant  0.06
4                 Pub  0.06
5           Bookstore  0.03
6       Smoothie Shop  0.03
7       Burrito Place  0.03
8      Scenic Lookout  0.03
9      Sandwich Place  0.03


----Runnymede, The Junction North----
                             venue  freq
0                          Brewery  0.25
1                         Bus Line  0.25
2                    Grocery Store  0.25
3                Convenience Store  0.25
4               Mexican Restaurant  0.00
5  Molecular Gastronomy Restaurant  0.00
6       Modern European Restaurant  0.00
7                Mobile Phone Shop  0.00
8               Miscellaneous Shop  0.00
9        Middle Eastern Restaurant  0.00


----Scarborough Village----
                             venue  freq
0                    Women&#39;s Store  0.33
1                    Grocery Store  0.33
2                       Playground  0.33
3                    Metro Station  0.00
4  Molecular Gastronomy Restaurant  0.00
5       Modern European Restaurant  0.00
6                Mobile Phone Shop  0.00
7               Miscellaneous Shop  0.00
8        Middle Eastern Restaurant  0.00
9               Mexican Restaurant  0.00


----South Steeles, Silverstone, Humbergate, Jamestown, Mount Olive, Beaumond Heights, Thistletown, Albion Gardens----
                  venue  freq
0         Grocery Store  0.22
1          Liquor Store  0.11
2           Pizza Place  0.11
3            Beer Store  0.11
4        Sandwich Place  0.11
5   Fried Chicken Joint  0.11
6  Fast Food Restaurant  0.11
7              Pharmacy  0.11
8          Optical Shop  0.00
9           Opera House  0.00


----St. James Town----
                 venue  freq
0          Coffee Shop  0.06
1           Restaurant  0.06
2                 Café  0.06
3       Clothing Store  0.05
4         Cocktail Bar  0.03
5       Cosmetics Shop  0.03
6  American Restaurant  0.03
7  Moroccan Restaurant  0.02
8             Beer Bar  0.02
9       Lingerie Store  0.02


----St. James Town, Cabbagetown----
                venue  freq
0         Coffee Shop  0.09
1                Café  0.07
2          Restaurant  0.07
3  Chinese Restaurant  0.04
4              Bakery  0.04
5         Pizza Place  0.04
6  Italian Restaurant  0.04
7                 Pub  0.04
8          Beer Store  0.02
9        Liquor Store  0.02


----Steeles West, L&#39;Amoreaux West----
                  venue  freq
0  Fast Food Restaurant  0.14
1         Grocery Store  0.14
2    Chinese Restaurant  0.14
3           Coffee Shop  0.14
4        Sandwich Place  0.07
5        Breakfast Spot  0.07
6     Electronics Store  0.07
7           Pizza Place  0.07
8              Pharmacy  0.07
9                  Bank  0.07


----Stn A PO Boxes----
                 venue  freq
0          Coffee Shop  0.12
1   Italian Restaurant  0.04
2                 Café  0.04
3                  Pub  0.03
4   Seafood Restaurant  0.03
5                Hotel  0.03
6  Japanese Restaurant  0.03
7           Restaurant  0.03
8             Beer Bar  0.03
9                  Gym  0.03


----Studio District----
                 venue  freq
0                 Café  0.10
1          Coffee Shop  0.08
2              Brewery  0.05
3               Bakery  0.05
4            Gastropub  0.05
5  American Restaurant  0.05
6          Yoga Studio  0.02
7      Coworking Space  0.02
8   Seafood Restaurant  0.02
9       Sandwich Place  0.02


----Summerhill West, Rathnelly, South Hill, Forest Hill SE, Deer Park----
                 venue  freq
0          Coffee Shop  0.12
1                  Pub  0.12
2          Pizza Place  0.06
3           Bagel Shop  0.06
4           Restaurant  0.06
5         Liquor Store  0.06
6           Sports Bar  0.06
7  Fried Chicken Joint  0.06
8          Supermarket  0.06
9     Sushi Restaurant  0.06


----The Annex, North Midtown, Yorkville----
               venue  freq
0               Café  0.14
1     Sandwich Place  0.14
2        Coffee Shop  0.09
3       Liquor Store  0.05
4          BBQ Joint  0.05
5         Donut Shop  0.05
6                Pub  0.05
7   Asian Restaurant  0.05
8       Burger Joint  0.05
9  Indian Restaurant  0.05


----The Beaches----
                             venue  freq
0                            Trail  0.25
1                Health Food Store  0.25
2                              Pub  0.25
3                      Yoga Studio  0.00
4  Molecular Gastronomy Restaurant  0.00
5       Modern European Restaurant  0.00
6                Mobile Phone Shop  0.00
7               Miscellaneous Shop  0.00
8        Middle Eastern Restaurant  0.00
9               Mexican Restaurant  0.00


----The Danforth West, Riverdale----
                     venue  freq
0         Greek Restaurant  0.19
1       Italian Restaurant  0.07
2              Coffee Shop  0.07
3   Furniture / Home Store  0.05
4               Restaurant  0.05
5           Ice Cream Shop  0.05
6              Yoga Studio  0.02
7                   Lounge  0.02
8  Fruit &amp; Vegetable Store  0.02
9       Frozen Yogurt Shop  0.02


----The Kingsway, Montgomery Road, Old Mill North----
                      venue  freq
0                     River   0.5
1                      Pool   0.5
2                    Market   0.0
3         Martial Arts Dojo   0.0
4            Massage Studio   0.0
5            Medical Center   0.0
6  Mediterranean Restaurant   0.0
7               Men&#39;s Store   0.0
8       Moroccan Restaurant   0.0
9             Metro Station   0.0


----Thorncliffe Park----
                       venue  freq
0          Indian Restaurant  0.10
1                Yoga Studio  0.05
2             Discount Store  0.05
3               Burger Joint  0.05
4             Sandwich Place  0.05
5                 Restaurant  0.05
6                Coffee Shop  0.05
7                Pizza Place  0.05
8                       Park  0.05
9  Middle Eastern Restaurant  0.05


----Toronto Dominion Centre, Design Exchange----
                 venue  freq
0          Coffee Shop  0.13
1                Hotel  0.07
2                 Café  0.06
3           Restaurant  0.04
4   Italian Restaurant  0.03
5  Japanese Restaurant  0.03
6          Salad Place  0.03
7   Seafood Restaurant  0.03
8  American Restaurant  0.03
9     Asian Restaurant  0.02


----University of Toronto, Harbord----
                 venue  freq
0                 Café  0.14
1            Bookstore  0.06
2       Sandwich Place  0.06
3           Restaurant  0.06
4                  Bar  0.06
5               Bakery  0.06
6  Japanese Restaurant  0.06
7          Yoga Studio  0.03
8   Italian Restaurant  0.03
9    French Restaurant  0.03


----Victoria Village----
                             venue  freq
0                     Intersection  0.17
1                French Restaurant  0.17
2                      Pizza Place  0.17
3                      Coffee Shop  0.17
4                     Hockey Arena  0.17
5            Portuguese Restaurant  0.17
6        Middle Eastern Restaurant  0.00
7              Monument / Landmark  0.00
8  Molecular Gastronomy Restaurant  0.00
9       Modern European Restaurant  0.00


----Westmount----
                       venue  freq
0                Pizza Place  0.25
1               Intersection  0.12
2                Coffee Shop  0.12
3             Discount Store  0.12
4             Sandwich Place  0.12
5         Chinese Restaurant  0.12
6  Middle Eastern Restaurant  0.12
7              Metro Station  0.00
8         Mexican Restaurant  0.00
9                      Motel  0.00


----Weston----
                        venue  freq
0                        Park   1.0
1                 Yoga Studio   0.0
2                 Men&#39;s Store   0.0
3  Modern European Restaurant   0.0
4           Mobile Phone Shop   0.0
5          Miscellaneous Shop   0.0
6   Middle Eastern Restaurant   0.0
7          Mexican Restaurant   0.0
8               Metro Station   0.0
9    Mediterranean Restaurant   0.0


----Wexford, Maryvale----
                        venue  freq
0   Middle Eastern Restaurant  0.25
1                 Auto Garage  0.12
2                      Bakery  0.12
3              Breakfast Spot  0.12
4       Vietnamese Restaurant  0.12
5               Shopping Mall  0.12
6              Sandwich Place  0.12
7                 Yoga Studio  0.00
8  Modern European Restaurant  0.00
9           Mobile Phone Shop  0.00


----Willowdale, Newtonbrook----
                             venue  freq
0                        Piano Bar   0.5
1                             Park   0.5
2                      Yoga Studio   0.0
3                    Metro Station   0.0
4  Molecular Gastronomy Restaurant   0.0
5       Modern European Restaurant   0.0
6                Mobile Phone Shop   0.0
7               Miscellaneous Shop   0.0
8        Middle Eastern Restaurant   0.0
9               Mexican Restaurant   0.0


----Willowdale, Willowdale East----
                       venue  freq
0           Ramen Restaurant  0.09
1           Sushi Restaurant  0.06
2                       Café  0.06
3             Sandwich Place  0.06
4                Pizza Place  0.06
5                Coffee Shop  0.06
6                 Restaurant  0.06
7        Japanese Restaurant  0.03
8  Middle Eastern Restaurant  0.03
9                 Steakhouse  0.03


----Willowdale, Willowdale West----
                             venue  freq
0                         Pharmacy  0.17
1                             Bank  0.17
2                      Pizza Place  0.17
3                    Grocery Store  0.17
4                      Coffee Shop  0.17
5                          Butcher  0.17
6                      Yoga Studio  0.00
7               Miscellaneous Shop  0.00
8              Monument / Landmark  0.00
9  Molecular Gastronomy Restaurant  0.00


----Woburn----
                             venue  freq
0                      Coffee Shop  0.50
1                Korean Restaurant  0.25
2                Convenience Store  0.25
3                      Yoga Studio  0.00
4  Molecular Gastronomy Restaurant  0.00
5       Modern European Restaurant  0.00
6                Mobile Phone Shop  0.00
7               Miscellaneous Shop  0.00
8        Middle Eastern Restaurant  0.00
9               Mexican Restaurant  0.00


----Woodbine Heights----
                        venue  freq
0                        Park  0.17
1                  Beer Store  0.17
2                 Video Store  0.17
3                Skating Rink  0.17
4                Dance Studio  0.17
5                 Curling Ice  0.17
6                 Yoga Studio  0.00
7          Mexican Restaurant  0.00
8  Modern European Restaurant  0.00
9           Mobile Phone Shop  0.00


----York Mills West----
                             venue  freq
0                             Park  0.50
1                Electronics Store  0.25
2                Convenience Store  0.25
3                      Yoga Studio  0.00
4               Mexican Restaurant  0.00
5  Molecular Gastronomy Restaurant  0.00
6       Modern European Restaurant  0.00
7                Mobile Phone Shop  0.00
8               Miscellaneous Shop  0.00
9        Middle Eastern Restaurant  0.00


</pre>
</div>
</div>

</div>
</div>

</div>
<div class="cell border-box-sizing code_cell rendered">
<div class="input">
<div class="prompt input_prompt">In&nbsp;[30]:</div>
<div class="inner_cell">
    <div class="input_area">
<div class=" highlight hl-ipython3"><pre><span></span><span class="k">def</span> <span class="nf">return_most_common_venues</span><span class="p">(</span><span class="n">row</span><span class="p">,</span> <span class="n">num_top_venues</span><span class="p">):</span>
    <span class="n">row_categories</span> <span class="o">=</span> <span class="n">row</span><span class="o">.</span><span class="n">iloc</span><span class="p">[</span><span class="mi">1</span><span class="p">:]</span>
    <span class="n">row_categories_sorted</span> <span class="o">=</span> <span class="n">row_categories</span><span class="o">.</span><span class="n">sort_values</span><span class="p">(</span><span class="n">ascending</span><span class="o">=</span><span class="kc">False</span><span class="p">)</span>
    
    <span class="k">return</span> <span class="n">row_categories_sorted</span><span class="o">.</span><span class="n">index</span><span class="o">.</span><span class="n">values</span><span class="p">[</span><span class="mi">0</span><span class="p">:</span><span class="n">num_top_venues</span><span class="p">]</span>
</pre></div>

    </div>
</div>
</div>

</div>
<div class="cell border-box-sizing text_cell rendered"><div class="prompt input_prompt">
</div><div class="inner_cell">
<div class="text_cell_render border-box-sizing rendered_html">
<p><br><br>Now let's create the new dataframe and display the top 10 venues for each neighborhood.</p>

</div>
</div>
</div>
<div class="cell border-box-sizing code_cell rendered">
<div class="input">
<div class="prompt input_prompt">In&nbsp;[31]:</div>
<div class="inner_cell">
    <div class="input_area">
<div class=" highlight hl-ipython3"><pre><span></span><span class="n">top_10_venues</span> <span class="o">=</span> <span class="mi">10</span>

<span class="n">indicators</span> <span class="o">=</span> <span class="p">[</span><span class="s1">&#39;st&#39;</span><span class="p">,</span> <span class="s1">&#39;nd&#39;</span><span class="p">,</span> <span class="s1">&#39;rd&#39;</span><span class="p">]</span>

<span class="n">columns</span> <span class="o">=</span> <span class="p">[</span><span class="s1">&#39;Neighborhood&#39;</span><span class="p">]</span>
<span class="k">for</span> <span class="n">ind</span> <span class="ow">in</span> <span class="n">np</span><span class="o">.</span><span class="n">arange</span><span class="p">(</span><span class="n">top_10_venues</span><span class="p">):</span>
    <span class="k">try</span><span class="p">:</span>
        <span class="n">columns</span><span class="o">.</span><span class="n">append</span><span class="p">(</span><span class="s1">&#39;</span><span class="si">{}{}</span><span class="s1"> Most Common Venue&#39;</span><span class="o">.</span><span class="n">format</span><span class="p">(</span><span class="n">ind</span><span class="o">+</span><span class="mi">1</span><span class="p">,</span> <span class="n">indicators</span><span class="p">[</span><span class="n">ind</span><span class="p">]))</span>
    <span class="k">except</span><span class="p">:</span>
        <span class="n">columns</span><span class="o">.</span><span class="n">append</span><span class="p">(</span><span class="s1">&#39;</span><span class="si">{}</span><span class="s1">th Most Common Venue&#39;</span><span class="o">.</span><span class="n">format</span><span class="p">(</span><span class="n">ind</span><span class="o">+</span><span class="mi">1</span><span class="p">))</span>

<span class="n">neighborhoods_venues_sorted</span> <span class="o">=</span> <span class="n">pd</span><span class="o">.</span><span class="n">DataFrame</span><span class="p">(</span><span class="n">columns</span><span class="o">=</span><span class="n">columns</span><span class="p">)</span>
<span class="n">neighborhoods_venues_sorted</span><span class="p">[</span><span class="s1">&#39;Neighborhood&#39;</span><span class="p">]</span> <span class="o">=</span> <span class="n">toronto_grouped</span><span class="p">[</span><span class="s1">&#39;Neighborhood&#39;</span><span class="p">]</span>

<span class="k">for</span> <span class="n">ind</span> <span class="ow">in</span> <span class="n">np</span><span class="o">.</span><span class="n">arange</span><span class="p">(</span><span class="n">toronto_grouped</span><span class="o">.</span><span class="n">shape</span><span class="p">[</span><span class="mi">0</span><span class="p">]):</span>
    <span class="n">neighborhoods_venues_sorted</span><span class="o">.</span><span class="n">iloc</span><span class="p">[</span><span class="n">ind</span><span class="p">,</span> <span class="mi">1</span><span class="p">:]</span> <span class="o">=</span> <span class="n">return_most_common_venues</span><span class="p">(</span><span class="n">toronto_grouped</span><span class="o">.</span><span class="n">iloc</span><span class="p">[</span><span class="n">ind</span><span class="p">,</span> <span class="p">:],</span> <span class="n">num_top_venues</span><span class="p">)</span>

<span class="n">neighborhoods_venues_sorted</span><span class="o">.</span><span class="n">head</span><span class="p">(</span><span class="mi">10</span><span class="p">)</span>
</pre></div>

    </div>
</div>
</div>

<div class="output_wrapper">
<div class="output">


<div class="output_area">

    <div class="prompt output_prompt">Out[31]:</div>



<div class="output_html rendered_html output_subarea output_execute_result">
<div>
<style scoped>
    .dataframe tbody tr th:only-of-type {
        vertical-align: middle;
    }

    .dataframe tbody tr th {
        vertical-align: top;
    }

    .dataframe thead th {
        text-align: right;
    }
</style>
<table border="1" class="dataframe">
  <thead>
    <tr style="text-align: right;">
      <th></th>
      <th>Neighborhood</th>
      <th>1st Most Common Venue</th>
      <th>2nd Most Common Venue</th>
      <th>3rd Most Common Venue</th>
      <th>4th Most Common Venue</th>
      <th>5th Most Common Venue</th>
      <th>6th Most Common Venue</th>
      <th>7th Most Common Venue</th>
      <th>8th Most Common Venue</th>
      <th>9th Most Common Venue</th>
      <th>10th Most Common Venue</th>
    </tr>
  </thead>
  <tbody>
    <tr>
      <th>0</th>
      <td>Agincourt</td>
      <td>Lounge</td>
      <td>Latin American Restaurant</td>
      <td>Skating Rink</td>
      <td>Breakfast Spot</td>
      <td>Dog Run</td>
      <td>Dessert Shop</td>
      <td>Dim Sum Restaurant</td>
      <td>Diner</td>
      <td>Discount Store</td>
      <td>Distribution Center</td>
    </tr>
    <tr>
      <th>1</th>
      <td>Alderwood, Long Branch</td>
      <td>Pizza Place</td>
      <td>Pharmacy</td>
      <td>Pub</td>
      <td>Pool</td>
      <td>Sandwich Place</td>
      <td>Coffee Shop</td>
      <td>Skating Rink</td>
      <td>Gym</td>
      <td>Distribution Center</td>
      <td>Discount Store</td>
    </tr>
    <tr>
      <th>2</th>
      <td>Bathurst Manor, Wilson Heights, Downsview North</td>
      <td>Bank</td>
      <td>Coffee Shop</td>
      <td>Middle Eastern Restaurant</td>
      <td>Sushi Restaurant</td>
      <td>Ice Cream Shop</td>
      <td>Shopping Mall</td>
      <td>Mobile Phone Shop</td>
      <td>Deli / Bodega</td>
      <td>Restaurant</td>
      <td>Fried Chicken Joint</td>
    </tr>
    <tr>
      <th>3</th>
      <td>Bayview Village</td>
      <td>Chinese Restaurant</td>
      <td>Café</td>
      <td>Bank</td>
      <td>Japanese Restaurant</td>
      <td>Women's Store</td>
      <td>Dessert Shop</td>
      <td>Dim Sum Restaurant</td>
      <td>Diner</td>
      <td>Discount Store</td>
      <td>Distribution Center</td>
    </tr>
    <tr>
      <th>4</th>
      <td>Bedford Park, Lawrence Manor East</td>
      <td>Thai Restaurant</td>
      <td>Sandwich Place</td>
      <td>Coffee Shop</td>
      <td>Italian Restaurant</td>
      <td>Restaurant</td>
      <td>Pharmacy</td>
      <td>Indian Restaurant</td>
      <td>Pub</td>
      <td>Butcher</td>
      <td>Café</td>
    </tr>
    <tr>
      <th>5</th>
      <td>Berczy Park</td>
      <td>Coffee Shop</td>
      <td>Seafood Restaurant</td>
      <td>Cheese Shop</td>
      <td>Cocktail Bar</td>
      <td>Bakery</td>
      <td>Restaurant</td>
      <td>Beer Bar</td>
      <td>Café</td>
      <td>Farmers Market</td>
      <td>Shopping Mall</td>
    </tr>
    <tr>
      <th>6</th>
      <td>Birch Cliff, Cliffside West</td>
      <td>General Entertainment</td>
      <td>College Stadium</td>
      <td>Skating Rink</td>
      <td>Café</td>
      <td>Distribution Center</td>
      <td>Department Store</td>
      <td>Dessert Shop</td>
      <td>Dim Sum Restaurant</td>
      <td>Diner</td>
      <td>Discount Store</td>
    </tr>
    <tr>
      <th>7</th>
      <td>Brockton, Parkdale Village, Exhibition Place</td>
      <td>Café</td>
      <td>Coffee Shop</td>
      <td>Bakery</td>
      <td>Breakfast Spot</td>
      <td>Climbing Gym</td>
      <td>Intersection</td>
      <td>Stadium</td>
      <td>Italian Restaurant</td>
      <td>Restaurant</td>
      <td>Burrito Place</td>
    </tr>
    <tr>
      <th>8</th>
      <td>Business reply mail Processing Centre, South C...</td>
      <td>Light Rail Station</td>
      <td>Auto Workshop</td>
      <td>Park</td>
      <td>Comic Shop</td>
      <td>Pizza Place</td>
      <td>Recording Studio</td>
      <td>Restaurant</td>
      <td>Burrito Place</td>
      <td>Brewery</td>
      <td>Skate Park</td>
    </tr>
    <tr>
      <th>9</th>
      <td>CN Tower, King and Spadina, Railway Lands, Har...</td>
      <td>Airport Service</td>
      <td>Airport Lounge</td>
      <td>Airport Terminal</td>
      <td>Coffee Shop</td>
      <td>Boat or Ferry</td>
      <td>Harbor / Marina</td>
      <td>Airport</td>
      <td>Airport Food Court</td>
      <td>Airport Gate</td>
      <td>Boutique</td>
    </tr>
  </tbody>
</table>
</div>
</div>

</div>

</div>
</div>

</div>
<div class="cell border-box-sizing text_cell rendered"><div class="prompt input_prompt">
</div><div class="inner_cell">
<div class="text_cell_render border-box-sizing rendered_html">
<p><br><br>We can now cluster the neighborhoods in our dataframe. We use <strong>'k-mean'</strong> to cluster the neighborhoods into 4 clusters</p>

</div>
</div>
</div>
<div class="cell border-box-sizing code_cell rendered">
<div class="input">
<div class="prompt input_prompt">In&nbsp;[45]:</div>
<div class="inner_cell">
    <div class="input_area">
<div class=" highlight hl-ipython3"><pre><span></span><span class="n">kcluster</span> <span class="o">=</span> <span class="mi">5</span>
<span class="n">k_means</span> <span class="o">=</span> <span class="n">KMeans</span><span class="p">(</span><span class="n">init</span> <span class="o">=</span> <span class="s2">&quot;k-means++&quot;</span><span class="p">,</span> <span class="n">n_clusters</span> <span class="o">=</span> <span class="n">kcluster</span><span class="p">,</span> <span class="n">n_init</span> <span class="o">=</span> <span class="mi">8</span><span class="p">)</span>
</pre></div>

    </div>
</div>
</div>

</div>
<div class="cell border-box-sizing code_cell rendered">
<div class="input">
<div class="prompt input_prompt">In&nbsp;[46]:</div>
<div class="inner_cell">
    <div class="input_area">
<div class=" highlight hl-ipython3"><pre><span></span><span class="n">toronto_grouped_clustering</span> <span class="o">=</span> <span class="n">toronto_grouped</span><span class="o">.</span><span class="n">drop</span><span class="p">(</span><span class="s1">&#39;Neighborhood&#39;</span><span class="p">,</span> <span class="mi">1</span><span class="p">)</span>
<span class="n">k_means</span><span class="o">.</span><span class="n">fit</span><span class="p">(</span><span class="n">toronto_grouped_clustering</span><span class="p">)</span>
</pre></div>

    </div>
</div>
</div>

<div class="output_wrapper">
<div class="output">


<div class="output_area">

    <div class="prompt output_prompt">Out[46]:</div>




<div class="output_text output_subarea output_execute_result">
<pre>KMeans(algorithm=&#39;auto&#39;, copy_x=True, init=&#39;k-means++&#39;, max_iter=300,
    n_clusters=5, n_init=8, n_jobs=None, precompute_distances=&#39;auto&#39;,
    random_state=None, tol=0.0001, verbose=0)</pre>
</div>

</div>

</div>
</div>

</div>
<div class="cell border-box-sizing code_cell rendered">
<div class="input">
<div class="prompt input_prompt">In&nbsp;[47]:</div>
<div class="inner_cell">
    <div class="input_area">
<div class=" highlight hl-ipython3"><pre><span></span><span class="n">k_means_labels</span> <span class="o">=</span> <span class="n">k_means</span><span class="o">.</span><span class="n">labels_</span>
<span class="n">k_means_labels</span>
</pre></div>

    </div>
</div>
</div>

<div class="output_wrapper">
<div class="output">


<div class="output_area">

    <div class="prompt output_prompt">Out[47]:</div>




<div class="output_text output_subarea output_execute_result">
<pre>array([0, 0, 0, 0, 0, 0, 0, 0, 0, 0, 3, 0, 0, 0, 0, 0, 0, 0, 0, 0, 0, 4,
       0, 0, 0, 0, 3, 0, 0, 0, 0, 0, 0, 0, 0, 0, 0, 1, 0, 2, 0, 0, 4, 0,
       0, 0, 3, 0, 0, 0, 3, 0, 0, 0, 0, 0, 0, 0, 2, 0, 0, 3, 0, 0, 0, 3,
       0, 4, 0, 0, 0, 0, 0, 0, 0, 0, 0, 0, 0, 0, 0, 1, 0, 0, 0, 0, 0, 3,
       0, 3, 0, 0, 4, 0, 3], dtype=int32)</pre>
</div>

</div>

</div>
</div>

</div>
<div class="cell border-box-sizing text_cell rendered"><div class="prompt input_prompt">
</div><div class="inner_cell">
<div class="text_cell_render border-box-sizing rendered_html">
<p><br><br>To conclude, we visualize the resulting clusters:</p>

</div>
</div>
</div>
<div class="cell border-box-sizing code_cell rendered">
<div class="input">
<div class="prompt input_prompt">In&nbsp;[48]:</div>
<div class="inner_cell">
    <div class="input_area">
<div class=" highlight hl-ipython3"><pre><span></span><span class="n">map_clusters</span> <span class="o">=</span> <span class="n">folium</span><span class="o">.</span><span class="n">Map</span><span class="p">(</span><span class="n">location</span><span class="o">=</span><span class="p">[</span><span class="n">latitude</span><span class="p">,</span> <span class="n">longitude</span><span class="p">],</span> <span class="n">zoom_start</span><span class="o">=</span><span class="mi">11</span><span class="p">)</span>

<span class="n">x</span> <span class="o">=</span> <span class="n">np</span><span class="o">.</span><span class="n">arange</span><span class="p">(</span><span class="n">kcluster</span><span class="p">)</span>
<span class="n">ys</span> <span class="o">=</span> <span class="p">[</span><span class="n">i</span> <span class="o">+</span> <span class="n">x</span> <span class="o">+</span> <span class="p">(</span><span class="n">i</span><span class="o">*</span><span class="n">x</span><span class="p">)</span><span class="o">**</span><span class="mi">2</span> <span class="k">for</span> <span class="n">i</span> <span class="ow">in</span> <span class="nb">range</span><span class="p">(</span><span class="n">kcluster</span><span class="p">)]</span>
<span class="n">colors_array</span> <span class="o">=</span> <span class="n">cm</span><span class="o">.</span><span class="n">rainbow</span><span class="p">(</span><span class="n">np</span><span class="o">.</span><span class="n">linspace</span><span class="p">(</span><span class="mi">0</span><span class="p">,</span> <span class="mi">1</span><span class="p">,</span> <span class="nb">len</span><span class="p">(</span><span class="n">ys</span><span class="p">)))</span>
<span class="n">rainbow</span> <span class="o">=</span> <span class="p">[</span><span class="n">colors</span><span class="o">.</span><span class="n">rgb2hex</span><span class="p">(</span><span class="n">i</span><span class="p">)</span> <span class="k">for</span> <span class="n">i</span> <span class="ow">in</span> <span class="n">colors_array</span><span class="p">]</span>

<span class="n">markers_colors</span> <span class="o">=</span> <span class="p">[]</span>
<span class="k">for</span> <span class="n">lat</span><span class="p">,</span> <span class="n">lon</span><span class="p">,</span> <span class="n">poi</span><span class="p">,</span> <span class="n">cluster</span> <span class="ow">in</span> <span class="nb">zip</span><span class="p">(</span><span class="n">df_new</span><span class="p">[</span><span class="s1">&#39;Latitude&#39;</span><span class="p">],</span> <span class="n">df_new</span><span class="p">[</span><span class="s1">&#39;Longitude&#39;</span><span class="p">],</span> <span class="n">df_new</span><span class="p">[</span><span class="s1">&#39;Neighbourhood&#39;</span><span class="p">],</span> <span class="n">k_means_labels</span><span class="p">):</span>
    <span class="n">label</span> <span class="o">=</span> <span class="n">folium</span><span class="o">.</span><span class="n">Popup</span><span class="p">(</span><span class="nb">str</span><span class="p">(</span><span class="n">poi</span><span class="p">)</span> <span class="o">+</span> <span class="s1">&#39; Cluster &#39;</span> <span class="o">+</span> <span class="nb">str</span><span class="p">(</span><span class="n">cluster</span><span class="p">),</span> <span class="n">parse_html</span><span class="o">=</span><span class="kc">True</span><span class="p">)</span>
    <span class="n">folium</span><span class="o">.</span><span class="n">CircleMarker</span><span class="p">(</span>
        <span class="p">[</span><span class="n">lat</span><span class="p">,</span> <span class="n">lon</span><span class="p">],</span>
        <span class="n">radius</span><span class="o">=</span><span class="mi">5</span><span class="p">,</span>
        <span class="n">popup</span><span class="o">=</span><span class="n">label</span><span class="p">,</span>
        <span class="n">color</span><span class="o">=</span><span class="n">rainbow</span><span class="p">[</span><span class="n">cluster</span><span class="o">-</span><span class="mi">1</span><span class="p">],</span>
        <span class="n">fill</span><span class="o">=</span><span class="kc">True</span><span class="p">,</span>
        <span class="n">fill_color</span><span class="o">=</span><span class="n">rainbow</span><span class="p">[</span><span class="n">cluster</span><span class="o">-</span><span class="mi">1</span><span class="p">],</span>
        <span class="n">fill_opacity</span><span class="o">=</span><span class="mf">0.5</span><span class="p">)</span><span class="o">.</span><span class="n">add_to</span><span class="p">(</span><span class="n">map_clusters</span><span class="p">)</span>
       
<span class="n">map_clusters</span>
</pre></div>

    </div>
</div>
</div>

<div class="output_wrapper">
<div class="output">


<div class="output_area">

    <div class="prompt output_prompt">Out[48]:</div>



<div class="output_html rendered_html output_subarea output_execute_result">
<div style="width:100%;"><div style="position:relative;width:100%;height:0;padding-bottom:60%;"><span style="color:#565656">Make this Notebook Trusted to load map: File -> Trust Notebook</span><iframe src="about:blank" style="position:absolute;width:100%;height:100%;left:0;top:0;border:none !important;" data-html=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 onload="this.contentDocument.open();this.contentDocument.write(atob(this.getAttribute('data-html')));this.contentDocument.close();" allowfullscreen webkitallowfullscreen mozallowfullscreen></iframe></div></div>
</div>

</div>

</div>
</div>

</div>
 


    </div>
  </div>

  </div>


  
    <footer class="footer hidden-print">
      <div class="container">
        <div class="col-md-4">
          <p>
            This website does not host notebooks, it only renders notebooks
            available on other websites.
          </p>
        </div>

        <div class="col-md-4">
          <p>
            Delivered by <a href="https://www.fastly.com/">Fastly</a>,
            Rendered by <a href="https://ovhcloud.com">OVHCloud</a>
          </p>
          <p>
            nbviewer GitHub <a href="https://github.com/jupyter/nbviewer">repository</a>.
          </p>
        </div>

        <div class="col-md-4">
          
  
            
              <p>
                nbviewer version:
                <a href="https://github.com/jupyter/nbviewer/commit/e83752b49e1663d3feb1c157d31fb51451f11c0a">
                  e83752b
                </a>
              </p>
            
          
  
  <p>
    nbconvert version: <a href="https://github.com/jupyter/nbconvert/releases/tag/5.6.1">
      5.6.1
    </a>
  </p>
  

          
  
  
  <p>
    Rendered
    <span class='date' data-date='Wed, 05 Aug 2020 07:18:30 UTC' title='Wed, 05 Aug 2020 07:18:30 UTC'>(Wed, 05 Aug 2020 07:18:30 UTC)</span>
  </p>
  

        </div>
      </div>
    </footer>
  

  <script src="/static/components/bootstrap/js/bootstrap.min.js"></script>
  <script src="/static/components/headroom.js/dist/headroom.min.js"></script>
  <script src="/static/components/headroom.js/dist/jQuery.headroom.min.js"></script>

  
  
  <script>
    $(function(){ $("#menubar").headroom({
      tolerance: 5,
      offset: 205,
      classes: {
        initial: "animated",
        pinned: "slideInDown",
        unpinned: "slideOutUp"
      }
    })});
  </script>


  
  <script>
    (function(i,s,o,g,r,a,m){i['GoogleAnalyticsObject']=r;i[r]=i[r]||function(){
      (i[r].q=i[r].q||[]).push(arguments)},i[r].l=1*new Date();a=s.createElement(o),
      m=s.getElementsByTagName(o)[0];a.async=1;a.src=g;m.parentNode.insertBefore(a,m)
    })(window,document,'script','https://www.google-analytics.com/analytics.js','ga');
    ga('create', 'UA-52617120-5', 'auto',
       {'storage': 'none'});
    ga('set', 'anonymizeIp', true);
    ga('send', 'pageview');
  </script>
  
  <script>
    require({
        paths: {
          moment: "/static/components/moment/min/moment.min.js"
        }
      }, ["moment"], function(moment){
      var date = $("footer .date"),
        m = moment(new Date(date.data('date'))),
        update = function(){ date.text(m.fromNow()); };
      setInterval(update, 61*1000);
      update();
      var w = $(window).scroll(function(event){
        $("body").toggleClass("scrolled", w.scrollTop() > 0);
      });
    });
  </script>

  <!--NEW RELIC Stop Perf Measurement-->
  
  <!--NEW RELIC End-->
</body>
</html>